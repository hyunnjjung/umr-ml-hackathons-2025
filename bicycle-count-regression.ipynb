{
 "cells": [
  {
   "cell_type": "code",
   "execution_count": 1,
   "id": "da3aee6d",
   "metadata": {
    "_cell_guid": "b1076dfc-b9ad-4769-8c92-a6c4dae69d19",
    "_uuid": "8f2839f25d086af736a60e9eeb907d3b93b6e0e5",
    "execution": {
     "iopub.execute_input": "2025-07-04T20:02:33.206003Z",
     "iopub.status.busy": "2025-07-04T20:02:33.205733Z",
     "iopub.status.idle": "2025-07-04T20:02:46.391535Z",
     "shell.execute_reply": "2025-07-04T20:02:46.390928Z"
    },
    "papermill": {
     "duration": 13.194953,
     "end_time": "2025-07-04T20:02:46.392896",
     "exception": false,
     "start_time": "2025-07-04T20:02:33.197943",
     "status": "completed"
    },
    "tags": []
   },
   "outputs": [],
   "source": [
    "import numpy as np\n",
    "import matplotlib.pyplot as plt\n",
    "import pandas as pd\n",
    "import seaborn as sns\n",
    "import datetime\n",
    "from sklearn.model_selection import train_test_split\n",
    "from sklearn.metrics import mean_absolute_error\n",
    "\n",
    "from catboost import CatBoostRegressor\n",
    "from lightgbm import LGBMRegressor"
   ]
  },
  {
   "cell_type": "markdown",
   "id": "4247fcef",
   "metadata": {
    "papermill": {
     "duration": 0.005893,
     "end_time": "2025-07-04T20:02:46.405877",
     "exception": false,
     "start_time": "2025-07-04T20:02:46.399984",
     "status": "completed"
    },
    "tags": []
   },
   "source": [
    "The data can be imported directly from Kaggle."
   ]
  },
  {
   "cell_type": "code",
   "execution_count": 2,
   "id": "044c5220",
   "metadata": {
    "execution": {
     "iopub.execute_input": "2025-07-04T20:02:46.418617Z",
     "iopub.status.busy": "2025-07-04T20:02:46.418124Z",
     "iopub.status.idle": "2025-07-04T20:02:46.549902Z",
     "shell.execute_reply": "2025-07-04T20:02:46.549171Z"
    },
    "papermill": {
     "duration": 0.13964,
     "end_time": "2025-07-04T20:02:46.551286",
     "exception": false,
     "start_time": "2025-07-04T20:02:46.411646",
     "status": "completed"
    },
    "tags": []
   },
   "outputs": [
    {
     "name": "stdout",
     "output_type": "stream",
     "text": [
      "data_test.csv  data_train.csv  test_submission.csv\r\n"
     ]
    }
   ],
   "source": [
    "# # Use ! to execute a shell command from the notebook\n",
    "!ls /kaggle/input/umr-ml-2025-hackathon-1/"
   ]
  },
  {
   "cell_type": "markdown",
   "id": "c1c1a94a",
   "metadata": {
    "papermill": {
     "duration": 0.005692,
     "end_time": "2025-07-04T20:02:46.563033",
     "exception": false,
     "start_time": "2025-07-04T20:02:46.557341",
     "status": "completed"
    },
    "tags": []
   },
   "source": [
    "Let's load the dataset into a Pandas DataFrame."
   ]
  },
  {
   "cell_type": "code",
   "execution_count": 3,
   "id": "62526218",
   "metadata": {
    "execution": {
     "iopub.execute_input": "2025-07-04T20:02:46.576293Z",
     "iopub.status.busy": "2025-07-04T20:02:46.576053Z",
     "iopub.status.idle": "2025-07-04T20:02:46.619526Z",
     "shell.execute_reply": "2025-07-04T20:02:46.618720Z"
    },
    "papermill": {
     "duration": 0.051909,
     "end_time": "2025-07-04T20:02:46.620665",
     "exception": false,
     "start_time": "2025-07-04T20:02:46.568756",
     "status": "completed"
    },
    "tags": []
   },
   "outputs": [],
   "source": [
    "df_train = pd.read_csv(\"/kaggle/input/umr-ml-2025-hackathon-1/data_train.csv\")"
   ]
  },
  {
   "cell_type": "code",
   "execution_count": 4,
   "id": "89891832",
   "metadata": {
    "execution": {
     "iopub.execute_input": "2025-07-04T20:02:46.632684Z",
     "iopub.status.busy": "2025-07-04T20:02:46.632467Z",
     "iopub.status.idle": "2025-07-04T20:02:46.663625Z",
     "shell.execute_reply": "2025-07-04T20:02:46.662975Z"
    },
    "papermill": {
     "duration": 0.038468,
     "end_time": "2025-07-04T20:02:46.664718",
     "exception": false,
     "start_time": "2025-07-04T20:02:46.626250",
     "status": "completed"
    },
    "tags": []
   },
   "outputs": [
    {
     "data": {
      "text/html": [
       "<div>\n",
       "<style scoped>\n",
       "    .dataframe tbody tr th:only-of-type {\n",
       "        vertical-align: middle;\n",
       "    }\n",
       "\n",
       "    .dataframe tbody tr th {\n",
       "        vertical-align: top;\n",
       "    }\n",
       "\n",
       "    .dataframe thead th {\n",
       "        text-align: right;\n",
       "    }\n",
       "</style>\n",
       "<table border=\"1\" class=\"dataframe\">\n",
       "  <thead>\n",
       "    <tr style=\"text-align: right;\">\n",
       "      <th></th>\n",
       "      <th>date</th>\n",
       "      <th>bike_count</th>\n",
       "      <th>temperature</th>\n",
       "      <th>humidity</th>\n",
       "      <th>windspeed</th>\n",
       "      <th>wind_direction</th>\n",
       "      <th>visibility</th>\n",
       "      <th>precipitation</th>\n",
       "      <th>sun</th>\n",
       "      <th>windspeed_max</th>\n",
       "      <th>precip_indic</th>\n",
       "      <th>precip_type</th>\n",
       "      <th>school_holiday_indicator</th>\n",
       "      <th>public_holiday_indicator</th>\n",
       "      <th>is_workday</th>\n",
       "    </tr>\n",
       "  </thead>\n",
       "  <tbody>\n",
       "    <tr>\n",
       "      <th>0</th>\n",
       "      <td>2012-04-25</td>\n",
       "      <td>4593.0</td>\n",
       "      <td>12.038889</td>\n",
       "      <td>65.611111</td>\n",
       "      <td>3.033333</td>\n",
       "      <td>183.333333</td>\n",
       "      <td>53611.111111</td>\n",
       "      <td>0.0</td>\n",
       "      <td>294</td>\n",
       "      <td>12.0</td>\n",
       "      <td>0.0</td>\n",
       "      <td>0.0</td>\n",
       "      <td>0</td>\n",
       "      <td>0</td>\n",
       "      <td>1</td>\n",
       "    </tr>\n",
       "    <tr>\n",
       "      <th>1</th>\n",
       "      <td>2012-04-26</td>\n",
       "      <td>5849.0</td>\n",
       "      <td>14.194444</td>\n",
       "      <td>66.111111</td>\n",
       "      <td>2.844444</td>\n",
       "      <td>249.444444</td>\n",
       "      <td>52555.555556</td>\n",
       "      <td>0.0</td>\n",
       "      <td>176</td>\n",
       "      <td>10.0</td>\n",
       "      <td>0.0</td>\n",
       "      <td>0.0</td>\n",
       "      <td>0</td>\n",
       "      <td>0</td>\n",
       "      <td>1</td>\n",
       "    </tr>\n",
       "    <tr>\n",
       "      <th>2</th>\n",
       "      <td>2012-04-27</td>\n",
       "      <td>5846.0</td>\n",
       "      <td>15.233333</td>\n",
       "      <td>68.666667</td>\n",
       "      <td>1.505556</td>\n",
       "      <td>235.000000</td>\n",
       "      <td>45055.555556</td>\n",
       "      <td>0.1</td>\n",
       "      <td>373</td>\n",
       "      <td>5.0</td>\n",
       "      <td>0.0</td>\n",
       "      <td>0.0</td>\n",
       "      <td>0</td>\n",
       "      <td>0</td>\n",
       "      <td>1</td>\n",
       "    </tr>\n",
       "    <tr>\n",
       "      <th>3</th>\n",
       "      <td>2012-04-28</td>\n",
       "      <td>4261.0</td>\n",
       "      <td>22.200000</td>\n",
       "      <td>53.444444</td>\n",
       "      <td>2.700000</td>\n",
       "      <td>153.888889</td>\n",
       "      <td>41500.000000</td>\n",
       "      <td>0.0</td>\n",
       "      <td>678</td>\n",
       "      <td>8.0</td>\n",
       "      <td>0.0</td>\n",
       "      <td>0.0</td>\n",
       "      <td>0</td>\n",
       "      <td>0</td>\n",
       "      <td>0</td>\n",
       "    </tr>\n",
       "    <tr>\n",
       "      <th>4</th>\n",
       "      <td>2012-04-29</td>\n",
       "      <td>1901.0</td>\n",
       "      <td>17.994444</td>\n",
       "      <td>62.222222</td>\n",
       "      <td>3.950000</td>\n",
       "      <td>214.444444</td>\n",
       "      <td>52777.777778</td>\n",
       "      <td>3.7</td>\n",
       "      <td>319</td>\n",
       "      <td>16.0</td>\n",
       "      <td>0.0</td>\n",
       "      <td>0.0</td>\n",
       "      <td>0</td>\n",
       "      <td>0</td>\n",
       "      <td>0</td>\n",
       "    </tr>\n",
       "  </tbody>\n",
       "</table>\n",
       "</div>"
      ],
      "text/plain": [
       "         date  bike_count  temperature   humidity  windspeed  wind_direction  \\\n",
       "0  2012-04-25      4593.0    12.038889  65.611111   3.033333      183.333333   \n",
       "1  2012-04-26      5849.0    14.194444  66.111111   2.844444      249.444444   \n",
       "2  2012-04-27      5846.0    15.233333  68.666667   1.505556      235.000000   \n",
       "3  2012-04-28      4261.0    22.200000  53.444444   2.700000      153.888889   \n",
       "4  2012-04-29      1901.0    17.994444  62.222222   3.950000      214.444444   \n",
       "\n",
       "     visibility  precipitation  sun  windspeed_max  precip_indic  precip_type  \\\n",
       "0  53611.111111            0.0  294           12.0           0.0          0.0   \n",
       "1  52555.555556            0.0  176           10.0           0.0          0.0   \n",
       "2  45055.555556            0.1  373            5.0           0.0          0.0   \n",
       "3  41500.000000            0.0  678            8.0           0.0          0.0   \n",
       "4  52777.777778            3.7  319           16.0           0.0          0.0   \n",
       "\n",
       "   school_holiday_indicator  public_holiday_indicator  is_workday  \n",
       "0                         0                         0           1  \n",
       "1                         0                         0           1  \n",
       "2                         0                         0           1  \n",
       "3                         0                         0           0  \n",
       "4                         0                         0           0  "
      ]
     },
     "execution_count": 4,
     "metadata": {},
     "output_type": "execute_result"
    }
   ],
   "source": [
    "# Show the first five rows. .tail() for the last five\n",
    "df_train.head()"
   ]
  },
  {
   "cell_type": "code",
   "execution_count": 5,
   "id": "aa152b05",
   "metadata": {
    "execution": {
     "iopub.execute_input": "2025-07-04T20:02:46.677946Z",
     "iopub.status.busy": "2025-07-04T20:02:46.677275Z",
     "iopub.status.idle": "2025-07-04T20:02:46.681486Z",
     "shell.execute_reply": "2025-07-04T20:02:46.680966Z"
    },
    "papermill": {
     "duration": 0.011667,
     "end_time": "2025-07-04T20:02:46.682447",
     "exception": false,
     "start_time": "2025-07-04T20:02:46.670780",
     "status": "completed"
    },
    "tags": []
   },
   "outputs": [
    {
     "data": {
      "text/plain": [
       "3901"
      ]
     },
     "execution_count": 5,
     "metadata": {},
     "output_type": "execute_result"
    }
   ],
   "source": [
    "# How many rows\n",
    "len(df_train)"
   ]
  },
  {
   "cell_type": "code",
   "execution_count": 6,
   "id": "0085eef7",
   "metadata": {
    "execution": {
     "iopub.execute_input": "2025-07-04T20:02:46.694722Z",
     "iopub.status.busy": "2025-07-04T20:02:46.694522Z",
     "iopub.status.idle": "2025-07-04T20:02:46.700840Z",
     "shell.execute_reply": "2025-07-04T20:02:46.700187Z"
    },
    "papermill": {
     "duration": 0.0136,
     "end_time": "2025-07-04T20:02:46.701887",
     "exception": false,
     "start_time": "2025-07-04T20:02:46.688287",
     "status": "completed"
    },
    "tags": []
   },
   "outputs": [
    {
     "data": {
      "text/plain": [
       "Index(['date', 'bike_count', 'temperature', 'humidity', 'windspeed',\n",
       "       'wind_direction', 'visibility', 'precipitation', 'sun', 'windspeed_max',\n",
       "       'precip_indic', 'precip_type', 'school_holiday_indicator',\n",
       "       'public_holiday_indicator', 'is_workday'],\n",
       "      dtype='object')"
      ]
     },
     "execution_count": 6,
     "metadata": {},
     "output_type": "execute_result"
    }
   ],
   "source": [
    "# What are the columns?\n",
    "df_train.columns"
   ]
  },
  {
   "cell_type": "markdown",
   "id": "2f702af8",
   "metadata": {
    "papermill": {
     "duration": 0.005665,
     "end_time": "2025-07-04T20:02:46.713453",
     "exception": false,
     "start_time": "2025-07-04T20:02:46.707788",
     "status": "completed"
    },
    "tags": []
   },
   "source": [
    "See the competition page for explanations of the features."
   ]
  },
  {
   "cell_type": "markdown",
   "id": "700f1772",
   "metadata": {
    "papermill": {
     "duration": 0.005623,
     "end_time": "2025-07-04T20:02:46.724802",
     "exception": false,
     "start_time": "2025-07-04T20:02:46.719179",
     "status": "completed"
    },
    "tags": []
   },
   "source": [
    "We may want to convert the date column into a datetiem object."
   ]
  },
  {
   "cell_type": "code",
   "execution_count": 7,
   "id": "aa5454b0",
   "metadata": {
    "execution": {
     "iopub.execute_input": "2025-07-04T20:02:46.737232Z",
     "iopub.status.busy": "2025-07-04T20:02:46.736837Z",
     "iopub.status.idle": "2025-07-04T20:02:46.752610Z",
     "shell.execute_reply": "2025-07-04T20:02:46.751954Z"
    },
    "papermill": {
     "duration": 0.023115,
     "end_time": "2025-07-04T20:02:46.753705",
     "exception": false,
     "start_time": "2025-07-04T20:02:46.730590",
     "status": "completed"
    },
    "tags": []
   },
   "outputs": [],
   "source": [
    "df_train['date'] = pd.to_datetime(df_train['date'])"
   ]
  },
  {
   "cell_type": "code",
   "execution_count": 8,
   "id": "a0978e69",
   "metadata": {
    "execution": {
     "iopub.execute_input": "2025-07-04T20:02:46.766469Z",
     "iopub.status.busy": "2025-07-04T20:02:46.766276Z",
     "iopub.status.idle": "2025-07-04T20:02:46.785377Z",
     "shell.execute_reply": "2025-07-04T20:02:46.784608Z"
    },
    "papermill": {
     "duration": 0.02665,
     "end_time": "2025-07-04T20:02:46.786466",
     "exception": false,
     "start_time": "2025-07-04T20:02:46.759816",
     "status": "completed"
    },
    "tags": []
   },
   "outputs": [
    {
     "data": {
      "text/html": [
       "<div>\n",
       "<style scoped>\n",
       "    .dataframe tbody tr th:only-of-type {\n",
       "        vertical-align: middle;\n",
       "    }\n",
       "\n",
       "    .dataframe tbody tr th {\n",
       "        vertical-align: top;\n",
       "    }\n",
       "\n",
       "    .dataframe thead th {\n",
       "        text-align: right;\n",
       "    }\n",
       "</style>\n",
       "<table border=\"1\" class=\"dataframe\">\n",
       "  <thead>\n",
       "    <tr style=\"text-align: right;\">\n",
       "      <th></th>\n",
       "      <th>date</th>\n",
       "      <th>bike_count</th>\n",
       "      <th>temperature</th>\n",
       "      <th>humidity</th>\n",
       "      <th>windspeed</th>\n",
       "      <th>wind_direction</th>\n",
       "      <th>visibility</th>\n",
       "      <th>precipitation</th>\n",
       "      <th>sun</th>\n",
       "      <th>windspeed_max</th>\n",
       "      <th>precip_indic</th>\n",
       "      <th>precip_type</th>\n",
       "      <th>school_holiday_indicator</th>\n",
       "      <th>public_holiday_indicator</th>\n",
       "      <th>is_workday</th>\n",
       "    </tr>\n",
       "  </thead>\n",
       "  <tbody>\n",
       "    <tr>\n",
       "      <th>3896</th>\n",
       "      <td>2022-12-27</td>\n",
       "      <td>2638.0</td>\n",
       "      <td>4.272222</td>\n",
       "      <td>81.777778</td>\n",
       "      <td>2.961111</td>\n",
       "      <td>212.222222</td>\n",
       "      <td>55572.777778</td>\n",
       "      <td>0.0</td>\n",
       "      <td>205</td>\n",
       "      <td>7.8</td>\n",
       "      <td>0.0</td>\n",
       "      <td>0.0</td>\n",
       "      <td>1</td>\n",
       "      <td>0</td>\n",
       "      <td>1</td>\n",
       "    </tr>\n",
       "    <tr>\n",
       "      <th>3897</th>\n",
       "      <td>2022-12-28</td>\n",
       "      <td>2806.0</td>\n",
       "      <td>8.711111</td>\n",
       "      <td>67.166667</td>\n",
       "      <td>5.355556</td>\n",
       "      <td>221.666667</td>\n",
       "      <td>69854.444444</td>\n",
       "      <td>0.0</td>\n",
       "      <td>75</td>\n",
       "      <td>11.6</td>\n",
       "      <td>0.0</td>\n",
       "      <td>0.0</td>\n",
       "      <td>1</td>\n",
       "      <td>0</td>\n",
       "      <td>1</td>\n",
       "    </tr>\n",
       "    <tr>\n",
       "      <th>3898</th>\n",
       "      <td>2022-12-29</td>\n",
       "      <td>2421.0</td>\n",
       "      <td>11.550000</td>\n",
       "      <td>71.777778</td>\n",
       "      <td>7.472222</td>\n",
       "      <td>221.666667</td>\n",
       "      <td>63607.777778</td>\n",
       "      <td>2.1</td>\n",
       "      <td>50</td>\n",
       "      <td>16.2</td>\n",
       "      <td>1.0</td>\n",
       "      <td>6.0</td>\n",
       "      <td>1</td>\n",
       "      <td>0</td>\n",
       "      <td>1</td>\n",
       "    </tr>\n",
       "    <tr>\n",
       "      <th>3899</th>\n",
       "      <td>2022-12-30</td>\n",
       "      <td>2980.0</td>\n",
       "      <td>7.100000</td>\n",
       "      <td>89.388889</td>\n",
       "      <td>2.222222</td>\n",
       "      <td>196.111111</td>\n",
       "      <td>38045.000000</td>\n",
       "      <td>2.2</td>\n",
       "      <td>162</td>\n",
       "      <td>16.2</td>\n",
       "      <td>0.0</td>\n",
       "      <td>0.0</td>\n",
       "      <td>1</td>\n",
       "      <td>0</td>\n",
       "      <td>1</td>\n",
       "    </tr>\n",
       "    <tr>\n",
       "      <th>3900</th>\n",
       "      <td>2022-12-31</td>\n",
       "      <td>2011.0</td>\n",
       "      <td>16.444444</td>\n",
       "      <td>64.500000</td>\n",
       "      <td>6.205556</td>\n",
       "      <td>218.888889</td>\n",
       "      <td>71937.777778</td>\n",
       "      <td>0.0</td>\n",
       "      <td>247</td>\n",
       "      <td>15.1</td>\n",
       "      <td>0.0</td>\n",
       "      <td>0.0</td>\n",
       "      <td>1</td>\n",
       "      <td>0</td>\n",
       "      <td>0</td>\n",
       "    </tr>\n",
       "  </tbody>\n",
       "</table>\n",
       "</div>"
      ],
      "text/plain": [
       "           date  bike_count  temperature   humidity  windspeed  \\\n",
       "3896 2022-12-27      2638.0     4.272222  81.777778   2.961111   \n",
       "3897 2022-12-28      2806.0     8.711111  67.166667   5.355556   \n",
       "3898 2022-12-29      2421.0    11.550000  71.777778   7.472222   \n",
       "3899 2022-12-30      2980.0     7.100000  89.388889   2.222222   \n",
       "3900 2022-12-31      2011.0    16.444444  64.500000   6.205556   \n",
       "\n",
       "      wind_direction    visibility  precipitation  sun  windspeed_max  \\\n",
       "3896      212.222222  55572.777778            0.0  205            7.8   \n",
       "3897      221.666667  69854.444444            0.0   75           11.6   \n",
       "3898      221.666667  63607.777778            2.1   50           16.2   \n",
       "3899      196.111111  38045.000000            2.2  162           16.2   \n",
       "3900      218.888889  71937.777778            0.0  247           15.1   \n",
       "\n",
       "      precip_indic  precip_type  school_holiday_indicator  \\\n",
       "3896           0.0          0.0                         1   \n",
       "3897           0.0          0.0                         1   \n",
       "3898           1.0          6.0                         1   \n",
       "3899           0.0          0.0                         1   \n",
       "3900           0.0          0.0                         1   \n",
       "\n",
       "      public_holiday_indicator  is_workday  \n",
       "3896                         0           1  \n",
       "3897                         0           1  \n",
       "3898                         0           1  \n",
       "3899                         0           1  \n",
       "3900                         0           0  "
      ]
     },
     "execution_count": 8,
     "metadata": {},
     "output_type": "execute_result"
    }
   ],
   "source": [
    "df_train.tail()"
   ]
  },
  {
   "cell_type": "markdown",
   "id": "296c6e32",
   "metadata": {
    "papermill": {
     "duration": 0.005996,
     "end_time": "2025-07-04T20:02:46.799187",
     "exception": false,
     "start_time": "2025-07-04T20:02:46.793191",
     "status": "completed"
    },
    "tags": []
   },
   "source": [
    "We also want to check what datatype each column has.\n",
    "\n"
   ]
  },
  {
   "cell_type": "code",
   "execution_count": 9,
   "id": "41acbdc7",
   "metadata": {
    "execution": {
     "iopub.execute_input": "2025-07-04T20:02:46.813762Z",
     "iopub.status.busy": "2025-07-04T20:02:46.813543Z",
     "iopub.status.idle": "2025-07-04T20:02:46.862174Z",
     "shell.execute_reply": "2025-07-04T20:02:46.861408Z"
    },
    "papermill": {
     "duration": 0.057286,
     "end_time": "2025-07-04T20:02:46.863317",
     "exception": false,
     "start_time": "2025-07-04T20:02:46.806031",
     "status": "completed"
    },
    "tags": []
   },
   "outputs": [
    {
     "data": {
      "text/html": [
       "<div>\n",
       "<style scoped>\n",
       "    .dataframe tbody tr th:only-of-type {\n",
       "        vertical-align: middle;\n",
       "    }\n",
       "\n",
       "    .dataframe tbody tr th {\n",
       "        vertical-align: top;\n",
       "    }\n",
       "\n",
       "    .dataframe thead th {\n",
       "        text-align: right;\n",
       "    }\n",
       "</style>\n",
       "<table border=\"1\" class=\"dataframe\">\n",
       "  <thead>\n",
       "    <tr style=\"text-align: right;\">\n",
       "      <th></th>\n",
       "      <th>date</th>\n",
       "      <th>bike_count</th>\n",
       "      <th>temperature</th>\n",
       "      <th>humidity</th>\n",
       "      <th>windspeed</th>\n",
       "      <th>wind_direction</th>\n",
       "      <th>visibility</th>\n",
       "      <th>precipitation</th>\n",
       "      <th>sun</th>\n",
       "      <th>windspeed_max</th>\n",
       "      <th>precip_indic</th>\n",
       "      <th>precip_type</th>\n",
       "      <th>school_holiday_indicator</th>\n",
       "      <th>public_holiday_indicator</th>\n",
       "      <th>is_workday</th>\n",
       "    </tr>\n",
       "  </thead>\n",
       "  <tbody>\n",
       "    <tr>\n",
       "      <th>count</th>\n",
       "      <td>3901</td>\n",
       "      <td>3901.000000</td>\n",
       "      <td>3901.000000</td>\n",
       "      <td>3901.000000</td>\n",
       "      <td>3901.000000</td>\n",
       "      <td>3901.000000</td>\n",
       "      <td>3901.000000</td>\n",
       "      <td>3901.000000</td>\n",
       "      <td>3901.000000</td>\n",
       "      <td>3901.000000</td>\n",
       "      <td>3901.000000</td>\n",
       "      <td>3901.000000</td>\n",
       "      <td>3901.000000</td>\n",
       "      <td>3901.000000</td>\n",
       "      <td>3901.000000</td>\n",
       "    </tr>\n",
       "    <tr>\n",
       "      <th>mean</th>\n",
       "      <td>2017-08-27 21:09:49.694949888</td>\n",
       "      <td>4767.051507</td>\n",
       "      <td>12.523806</td>\n",
       "      <td>73.223227</td>\n",
       "      <td>3.433875</td>\n",
       "      <td>176.482530</td>\n",
       "      <td>33332.489293</td>\n",
       "      <td>1.511843</td>\n",
       "      <td>310.784158</td>\n",
       "      <td>9.437067</td>\n",
       "      <td>0.187324</td>\n",
       "      <td>1.135094</td>\n",
       "      <td>0.233274</td>\n",
       "      <td>0.033068</td>\n",
       "      <td>0.686491</td>\n",
       "    </tr>\n",
       "    <tr>\n",
       "      <th>min</th>\n",
       "      <td>2012-04-25 00:00:00</td>\n",
       "      <td>273.000000</td>\n",
       "      <td>-7.827778</td>\n",
       "      <td>31.277778</td>\n",
       "      <td>0.600000</td>\n",
       "      <td>16.666667</td>\n",
       "      <td>207.777778</td>\n",
       "      <td>0.000000</td>\n",
       "      <td>0.000000</td>\n",
       "      <td>2.000000</td>\n",
       "      <td>0.000000</td>\n",
       "      <td>0.000000</td>\n",
       "      <td>0.000000</td>\n",
       "      <td>0.000000</td>\n",
       "      <td>0.000000</td>\n",
       "    </tr>\n",
       "    <tr>\n",
       "      <th>25%</th>\n",
       "      <td>2014-12-26 00:00:00</td>\n",
       "      <td>3218.000000</td>\n",
       "      <td>6.388889</td>\n",
       "      <td>62.500000</td>\n",
       "      <td>2.122222</td>\n",
       "      <td>128.333333</td>\n",
       "      <td>20388.888889</td>\n",
       "      <td>0.000000</td>\n",
       "      <td>33.000000</td>\n",
       "      <td>6.900000</td>\n",
       "      <td>0.000000</td>\n",
       "      <td>0.000000</td>\n",
       "      <td>0.000000</td>\n",
       "      <td>0.000000</td>\n",
       "      <td>0.000000</td>\n",
       "    </tr>\n",
       "    <tr>\n",
       "      <th>50%</th>\n",
       "      <td>2017-08-27 00:00:00</td>\n",
       "      <td>4939.000000</td>\n",
       "      <td>12.505556</td>\n",
       "      <td>74.888889</td>\n",
       "      <td>3.083333</td>\n",
       "      <td>206.666667</td>\n",
       "      <td>34166.111111</td>\n",
       "      <td>0.000000</td>\n",
       "      <td>250.000000</td>\n",
       "      <td>9.000000</td>\n",
       "      <td>0.000000</td>\n",
       "      <td>0.000000</td>\n",
       "      <td>0.000000</td>\n",
       "      <td>0.000000</td>\n",
       "      <td>1.000000</td>\n",
       "    </tr>\n",
       "    <tr>\n",
       "      <th>75%</th>\n",
       "      <td>2020-04-30 00:00:00</td>\n",
       "      <td>6255.000000</td>\n",
       "      <td>18.644444</td>\n",
       "      <td>84.388889</td>\n",
       "      <td>4.311111</td>\n",
       "      <td>228.888889</td>\n",
       "      <td>45789.444444</td>\n",
       "      <td>1.000000</td>\n",
       "      <td>553.000000</td>\n",
       "      <td>11.500000</td>\n",
       "      <td>0.000000</td>\n",
       "      <td>0.000000</td>\n",
       "      <td>0.000000</td>\n",
       "      <td>0.000000</td>\n",
       "      <td>1.000000</td>\n",
       "    </tr>\n",
       "    <tr>\n",
       "      <th>max</th>\n",
       "      <td>2022-12-31 00:00:00</td>\n",
       "      <td>16149.000000</td>\n",
       "      <td>31.794444</td>\n",
       "      <td>100.000000</td>\n",
       "      <td>12.233333</td>\n",
       "      <td>340.000000</td>\n",
       "      <td>71937.777778</td>\n",
       "      <td>58.300000</td>\n",
       "      <td>909.000000</td>\n",
       "      <td>31.000000</td>\n",
       "      <td>1.000000</td>\n",
       "      <td>8.000000</td>\n",
       "      <td>1.000000</td>\n",
       "      <td>1.000000</td>\n",
       "      <td>1.000000</td>\n",
       "    </tr>\n",
       "    <tr>\n",
       "      <th>std</th>\n",
       "      <td>NaN</td>\n",
       "      <td>2008.723694</td>\n",
       "      <td>7.613455</td>\n",
       "      <td>14.219408</td>\n",
       "      <td>1.787092</td>\n",
       "      <td>69.219905</td>\n",
       "      <td>16291.107677</td>\n",
       "      <td>3.937883</td>\n",
       "      <td>280.355121</td>\n",
       "      <td>3.917378</td>\n",
       "      <td>0.380311</td>\n",
       "      <td>2.299259</td>\n",
       "      <td>0.422969</td>\n",
       "      <td>0.178838</td>\n",
       "      <td>0.463979</td>\n",
       "    </tr>\n",
       "  </tbody>\n",
       "</table>\n",
       "</div>"
      ],
      "text/plain": [
       "                                date    bike_count  temperature     humidity  \\\n",
       "count                           3901   3901.000000  3901.000000  3901.000000   \n",
       "mean   2017-08-27 21:09:49.694949888   4767.051507    12.523806    73.223227   \n",
       "min              2012-04-25 00:00:00    273.000000    -7.827778    31.277778   \n",
       "25%              2014-12-26 00:00:00   3218.000000     6.388889    62.500000   \n",
       "50%              2017-08-27 00:00:00   4939.000000    12.505556    74.888889   \n",
       "75%              2020-04-30 00:00:00   6255.000000    18.644444    84.388889   \n",
       "max              2022-12-31 00:00:00  16149.000000    31.794444   100.000000   \n",
       "std                              NaN   2008.723694     7.613455    14.219408   \n",
       "\n",
       "         windspeed  wind_direction    visibility  precipitation          sun  \\\n",
       "count  3901.000000     3901.000000   3901.000000    3901.000000  3901.000000   \n",
       "mean      3.433875      176.482530  33332.489293       1.511843   310.784158   \n",
       "min       0.600000       16.666667    207.777778       0.000000     0.000000   \n",
       "25%       2.122222      128.333333  20388.888889       0.000000    33.000000   \n",
       "50%       3.083333      206.666667  34166.111111       0.000000   250.000000   \n",
       "75%       4.311111      228.888889  45789.444444       1.000000   553.000000   \n",
       "max      12.233333      340.000000  71937.777778      58.300000   909.000000   \n",
       "std       1.787092       69.219905  16291.107677       3.937883   280.355121   \n",
       "\n",
       "       windspeed_max  precip_indic  precip_type  school_holiday_indicator  \\\n",
       "count    3901.000000   3901.000000  3901.000000               3901.000000   \n",
       "mean        9.437067      0.187324     1.135094                  0.233274   \n",
       "min         2.000000      0.000000     0.000000                  0.000000   \n",
       "25%         6.900000      0.000000     0.000000                  0.000000   \n",
       "50%         9.000000      0.000000     0.000000                  0.000000   \n",
       "75%        11.500000      0.000000     0.000000                  0.000000   \n",
       "max        31.000000      1.000000     8.000000                  1.000000   \n",
       "std         3.917378      0.380311     2.299259                  0.422969   \n",
       "\n",
       "       public_holiday_indicator   is_workday  \n",
       "count               3901.000000  3901.000000  \n",
       "mean                   0.033068     0.686491  \n",
       "min                    0.000000     0.000000  \n",
       "25%                    0.000000     0.000000  \n",
       "50%                    0.000000     1.000000  \n",
       "75%                    0.000000     1.000000  \n",
       "max                    1.000000     1.000000  \n",
       "std                    0.178838     0.463979  "
      ]
     },
     "execution_count": 9,
     "metadata": {},
     "output_type": "execute_result"
    }
   ],
   "source": [
    "df_train.describe()"
   ]
  },
  {
   "cell_type": "code",
   "execution_count": 10,
   "id": "3b726271",
   "metadata": {
    "execution": {
     "iopub.execute_input": "2025-07-04T20:02:46.878228Z",
     "iopub.status.busy": "2025-07-04T20:02:46.878016Z",
     "iopub.status.idle": "2025-07-04T20:02:46.883142Z",
     "shell.execute_reply": "2025-07-04T20:02:46.882563Z"
    },
    "papermill": {
     "duration": 0.013665,
     "end_time": "2025-07-04T20:02:46.884268",
     "exception": false,
     "start_time": "2025-07-04T20:02:46.870603",
     "status": "completed"
    },
    "tags": []
   },
   "outputs": [
    {
     "data": {
      "text/plain": [
       "date                        datetime64[ns]\n",
       "bike_count                         float64\n",
       "temperature                        float64\n",
       "humidity                           float64\n",
       "windspeed                          float64\n",
       "wind_direction                     float64\n",
       "visibility                         float64\n",
       "precipitation                      float64\n",
       "sun                                  int64\n",
       "windspeed_max                      float64\n",
       "precip_indic                       float64\n",
       "precip_type                        float64\n",
       "school_holiday_indicator             int64\n",
       "public_holiday_indicator             int64\n",
       "is_workday                           int64\n",
       "dtype: object"
      ]
     },
     "execution_count": 10,
     "metadata": {},
     "output_type": "execute_result"
    }
   ],
   "source": [
    "# Display the data type of each column\n",
    "df_train.dtypes"
   ]
  },
  {
   "cell_type": "markdown",
   "id": "3ceef02c",
   "metadata": {
    "papermill": {
     "duration": 0.00671,
     "end_time": "2025-07-04T20:02:46.898105",
     "exception": false,
     "start_time": "2025-07-04T20:02:46.891395",
     "status": "completed"
    },
    "tags": []
   },
   "source": [
    "We can plot the target variable, and see that there are some outliers we may want to address."
   ]
  },
  {
   "cell_type": "code",
   "execution_count": 11,
   "id": "7b8a219e",
   "metadata": {
    "execution": {
     "iopub.execute_input": "2025-07-04T20:02:46.912466Z",
     "iopub.status.busy": "2025-07-04T20:02:46.912253Z",
     "iopub.status.idle": "2025-07-04T20:02:47.397109Z",
     "shell.execute_reply": "2025-07-04T20:02:47.396482Z"
    },
    "papermill": {
     "duration": 0.493589,
     "end_time": "2025-07-04T20:02:47.398543",
     "exception": false,
     "start_time": "2025-07-04T20:02:46.904954",
     "status": "completed"
    },
    "tags": []
   },
   "outputs": [
    {
     "data": {
      "text/plain": [
       "<Axes: >"
      ]
     },
     "execution_count": 11,
     "metadata": {},
     "output_type": "execute_result"
    },
    {
     "data": {
      "image/png": "[encoded data removed]",
      "text/plain": [
       "<Figure size 640x480 with 1 Axes>"
      ]
     },
     "metadata": {},
     "output_type": "display_data"
    }
   ],
   "source": [
    "df_train.bike_count.hist(bins=100, label='obs')\n"
   ]
  },
  {
   "cell_type": "markdown",
   "id": "a218f02e",
   "metadata": {
    "papermill": {
     "duration": 0.006899,
     "end_time": "2025-07-04T20:02:47.454202",
     "exception": false,
     "start_time": "2025-07-04T20:02:47.447303",
     "status": "completed"
    },
    "tags": []
   },
   "source": [
    "Another useful plotting tool is Seaborn."
   ]
  },
  {
   "cell_type": "code",
   "execution_count": 12,
   "id": "02b5538a",
   "metadata": {
    "execution": {
     "iopub.execute_input": "2025-07-04T20:02:47.469359Z",
     "iopub.status.busy": "2025-07-04T20:02:47.468685Z",
     "iopub.status.idle": "2025-07-04T20:02:47.849322Z",
     "shell.execute_reply": "2025-07-04T20:02:47.848557Z"
    },
    "papermill": {
     "duration": 0.389813,
     "end_time": "2025-07-04T20:02:47.850961",
     "exception": false,
     "start_time": "2025-07-04T20:02:47.461148",
     "status": "completed"
    },
    "tags": []
   },
   "outputs": [
    {
     "data": {
      "image/png": "[encoded data removed]",
      "text/plain": [
       "<Figure size 640x480 with 1 Axes>"
      ]
     },
     "metadata": {},
     "output_type": "display_data"
    }
   ],
   "source": [
    "# Only take every 10th value\n",
    "sns.regplot(data=df_train.iloc[::10], x='temperature', y='bike_count');"
   ]
  },
  {
   "cell_type": "markdown",
   "id": "370577a9",
   "metadata": {
    "papermill": {
     "duration": 0.008001,
     "end_time": "2025-07-04T20:02:47.867538",
     "exception": false,
     "start_time": "2025-07-04T20:02:47.859537",
     "status": "completed"
    },
    "tags": []
   },
   "source": [
    "Check for NAs"
   ]
  },
  {
   "cell_type": "code",
   "execution_count": 13,
   "id": "68a937f2",
   "metadata": {
    "execution": {
     "iopub.execute_input": "2025-07-04T20:02:47.884208Z",
     "iopub.status.busy": "2025-07-04T20:02:47.884000Z",
     "iopub.status.idle": "2025-07-04T20:02:47.890311Z",
     "shell.execute_reply": "2025-07-04T20:02:47.889491Z"
    },
    "papermill": {
     "duration": 0.015651,
     "end_time": "2025-07-04T20:02:47.891367",
     "exception": false,
     "start_time": "2025-07-04T20:02:47.875716",
     "status": "completed"
    },
    "tags": []
   },
   "outputs": [
    {
     "data": {
      "text/plain": [
       "date                        0\n",
       "bike_count                  0\n",
       "temperature                 0\n",
       "humidity                    0\n",
       "windspeed                   0\n",
       "wind_direction              0\n",
       "visibility                  0\n",
       "precipitation               0\n",
       "sun                         0\n",
       "windspeed_max               0\n",
       "precip_indic                0\n",
       "precip_type                 0\n",
       "school_holiday_indicator    0\n",
       "public_holiday_indicator    0\n",
       "is_workday                  0\n",
       "dtype: int64"
      ]
     },
     "execution_count": 13,
     "metadata": {},
     "output_type": "execute_result"
    }
   ],
   "source": [
    "df_train.isna().sum()"
   ]
  },
  {
   "cell_type": "markdown",
   "id": "78af0231",
   "metadata": {
    "papermill": {
     "duration": 0.007587,
     "end_time": "2025-07-04T20:02:47.906607",
     "exception": false,
     "start_time": "2025-07-04T20:02:47.899020",
     "status": "completed"
    },
    "tags": []
   },
   "source": [
    "**Our first Kaggle submission**\n",
    "\n",
    "First, we read the test data."
   ]
  },
  {
   "cell_type": "code",
   "execution_count": 14,
   "id": "f2cb122b",
   "metadata": {
    "execution": {
     "iopub.execute_input": "2025-07-04T20:02:47.922536Z",
     "iopub.status.busy": "2025-07-04T20:02:47.922350Z",
     "iopub.status.idle": "2025-07-04T20:02:47.935721Z",
     "shell.execute_reply": "2025-07-04T20:02:47.934967Z"
    },
    "papermill": {
     "duration": 0.022617,
     "end_time": "2025-07-04T20:02:47.936858",
     "exception": false,
     "start_time": "2025-07-04T20:02:47.914241",
     "status": "completed"
    },
    "tags": []
   },
   "outputs": [],
   "source": [
    "df_test = pd.read_csv(\"/kaggle/input/umr-ml-2025-hackathon-1/data_test.csv\")\n",
    "df_test['date'] = pd.to_datetime(df_test['date'])"
   ]
  },
  {
   "cell_type": "code",
   "execution_count": 15,
   "id": "d9916694",
   "metadata": {
    "execution": {
     "iopub.execute_input": "2025-07-04T20:02:47.953404Z",
     "iopub.status.busy": "2025-07-04T20:02:47.952937Z",
     "iopub.status.idle": "2025-07-04T20:02:47.964413Z",
     "shell.execute_reply": "2025-07-04T20:02:47.963691Z"
    },
    "papermill": {
     "duration": 0.020723,
     "end_time": "2025-07-04T20:02:47.965413",
     "exception": false,
     "start_time": "2025-07-04T20:02:47.944690",
     "status": "completed"
    },
    "tags": []
   },
   "outputs": [
    {
     "data": {
      "text/html": [
       "<div>\n",
       "<style scoped>\n",
       "    .dataframe tbody tr th:only-of-type {\n",
       "        vertical-align: middle;\n",
       "    }\n",
       "\n",
       "    .dataframe tbody tr th {\n",
       "        vertical-align: top;\n",
       "    }\n",
       "\n",
       "    .dataframe thead th {\n",
       "        text-align: right;\n",
       "    }\n",
       "</style>\n",
       "<table border=\"1\" class=\"dataframe\">\n",
       "  <thead>\n",
       "    <tr style=\"text-align: right;\">\n",
       "      <th></th>\n",
       "      <th>date</th>\n",
       "      <th>temperature</th>\n",
       "      <th>humidity</th>\n",
       "      <th>windspeed</th>\n",
       "      <th>wind_direction</th>\n",
       "      <th>visibility</th>\n",
       "      <th>precipitation</th>\n",
       "      <th>sun</th>\n",
       "      <th>windspeed_max</th>\n",
       "      <th>precip_indic</th>\n",
       "      <th>precip_type</th>\n",
       "      <th>school_holiday_indicator</th>\n",
       "      <th>public_holiday_indicator</th>\n",
       "      <th>is_workday</th>\n",
       "    </tr>\n",
       "  </thead>\n",
       "  <tbody>\n",
       "    <tr>\n",
       "      <th>0</th>\n",
       "      <td>2023-01-01</td>\n",
       "      <td>13.527778</td>\n",
       "      <td>66.555556</td>\n",
       "      <td>3.161111</td>\n",
       "      <td>207.777778</td>\n",
       "      <td>57907.777778</td>\n",
       "      <td>0.0</td>\n",
       "      <td>196</td>\n",
       "      <td>10.0</td>\n",
       "      <td>0.0</td>\n",
       "      <td>0</td>\n",
       "      <td>1</td>\n",
       "      <td>1</td>\n",
       "      <td>0</td>\n",
       "    </tr>\n",
       "    <tr>\n",
       "      <th>1</th>\n",
       "      <td>2023-01-02</td>\n",
       "      <td>10.316667</td>\n",
       "      <td>79.722222</td>\n",
       "      <td>3.072222</td>\n",
       "      <td>204.444444</td>\n",
       "      <td>50496.666667</td>\n",
       "      <td>1.6</td>\n",
       "      <td>99</td>\n",
       "      <td>12.6</td>\n",
       "      <td>0.0</td>\n",
       "      <td>0</td>\n",
       "      <td>1</td>\n",
       "      <td>0</td>\n",
       "      <td>1</td>\n",
       "    </tr>\n",
       "    <tr>\n",
       "      <th>2</th>\n",
       "      <td>2023-01-03</td>\n",
       "      <td>6.027778</td>\n",
       "      <td>88.222222</td>\n",
       "      <td>1.622222</td>\n",
       "      <td>199.444444</td>\n",
       "      <td>45582.777778</td>\n",
       "      <td>0.0</td>\n",
       "      <td>347</td>\n",
       "      <td>5.5</td>\n",
       "      <td>0.0</td>\n",
       "      <td>0</td>\n",
       "      <td>1</td>\n",
       "      <td>0</td>\n",
       "      <td>1</td>\n",
       "    </tr>\n",
       "    <tr>\n",
       "      <th>3</th>\n",
       "      <td>2023-01-04</td>\n",
       "      <td>8.911111</td>\n",
       "      <td>77.166667</td>\n",
       "      <td>8.944444</td>\n",
       "      <td>227.777778</td>\n",
       "      <td>46587.777778</td>\n",
       "      <td>0.3</td>\n",
       "      <td>0</td>\n",
       "      <td>17.2</td>\n",
       "      <td>0.0</td>\n",
       "      <td>0</td>\n",
       "      <td>1</td>\n",
       "      <td>0</td>\n",
       "      <td>1</td>\n",
       "    </tr>\n",
       "    <tr>\n",
       "      <th>4</th>\n",
       "      <td>2023-01-05</td>\n",
       "      <td>10.977778</td>\n",
       "      <td>81.944444</td>\n",
       "      <td>6.066667</td>\n",
       "      <td>233.333333</td>\n",
       "      <td>40345.555556</td>\n",
       "      <td>0.3</td>\n",
       "      <td>22</td>\n",
       "      <td>14.3</td>\n",
       "      <td>0.0</td>\n",
       "      <td>0</td>\n",
       "      <td>1</td>\n",
       "      <td>0</td>\n",
       "      <td>1</td>\n",
       "    </tr>\n",
       "  </tbody>\n",
       "</table>\n",
       "</div>"
      ],
      "text/plain": [
       "        date  temperature   humidity  windspeed  wind_direction    visibility  \\\n",
       "0 2023-01-01    13.527778  66.555556   3.161111      207.777778  57907.777778   \n",
       "1 2023-01-02    10.316667  79.722222   3.072222      204.444444  50496.666667   \n",
       "2 2023-01-03     6.027778  88.222222   1.622222      199.444444  45582.777778   \n",
       "3 2023-01-04     8.911111  77.166667   8.944444      227.777778  46587.777778   \n",
       "4 2023-01-05    10.977778  81.944444   6.066667      233.333333  40345.555556   \n",
       "\n",
       "   precipitation  sun  windspeed_max  precip_indic  precip_type  \\\n",
       "0            0.0  196           10.0           0.0            0   \n",
       "1            1.6   99           12.6           0.0            0   \n",
       "2            0.0  347            5.5           0.0            0   \n",
       "3            0.3    0           17.2           0.0            0   \n",
       "4            0.3   22           14.3           0.0            0   \n",
       "\n",
       "   school_holiday_indicator  public_holiday_indicator  is_workday  \n",
       "0                         1                         1           0  \n",
       "1                         1                         0           1  \n",
       "2                         1                         0           1  \n",
       "3                         1                         0           1  \n",
       "4                         1                         0           1  "
      ]
     },
     "execution_count": 15,
     "metadata": {},
     "output_type": "execute_result"
    }
   ],
   "source": [
    "df_test.head()"
   ]
  },
  {
   "cell_type": "code",
   "execution_count": 16,
   "id": "2490c574",
   "metadata": {
    "execution": {
     "iopub.execute_input": "2025-07-04T20:02:47.982568Z",
     "iopub.status.busy": "2025-07-04T20:02:47.981857Z",
     "iopub.status.idle": "2025-07-04T20:02:47.986342Z",
     "shell.execute_reply": "2025-07-04T20:02:47.985675Z"
    },
    "papermill": {
     "duration": 0.013965,
     "end_time": "2025-07-04T20:02:47.987388",
     "exception": false,
     "start_time": "2025-07-04T20:02:47.973423",
     "status": "completed"
    },
    "tags": []
   },
   "outputs": [
    {
     "data": {
      "text/plain": [
       "Index(['date', 'temperature', 'humidity', 'windspeed', 'wind_direction',\n",
       "       'visibility', 'precipitation', 'sun', 'windspeed_max', 'precip_indic',\n",
       "       'precip_type', 'school_holiday_indicator', 'public_holiday_indicator',\n",
       "       'is_workday'],\n",
       "      dtype='object')"
      ]
     },
     "execution_count": 16,
     "metadata": {},
     "output_type": "execute_result"
    }
   ],
   "source": [
    "df_test.columns"
   ]
  },
  {
   "cell_type": "markdown",
   "id": "84299ec1",
   "metadata": {
    "papermill": {
     "duration": 0.007688,
     "end_time": "2025-07-04T20:02:48.002927",
     "exception": false,
     "start_time": "2025-07-04T20:02:47.995239",
     "status": "completed"
    },
    "tags": []
   },
   "source": [
    "These are the same columns as in the training data, but of course without the target variable."
   ]
  },
  {
   "cell_type": "markdown",
   "id": "b768b885",
   "metadata": {
    "papermill": {
     "duration": 0.008,
     "end_time": "2025-07-04T20:02:48.019178",
     "exception": false,
     "start_time": "2025-07-04T20:02:48.011178",
     "status": "completed"
    },
    "tags": []
   },
   "source": [
    "As a first simple model, let's always **predict the mean from the training dataset**. The following function allows to create a submission in the correct format from a vector of predictions `preds`."
   ]
  },
  {
   "cell_type": "code",
   "execution_count": 17,
   "id": "853c6314",
   "metadata": {
    "execution": {
     "iopub.execute_input": "2025-07-04T20:02:48.036109Z",
     "iopub.status.busy": "2025-07-04T20:02:48.035893Z",
     "iopub.status.idle": "2025-07-04T20:02:48.039407Z",
     "shell.execute_reply": "2025-07-04T20:02:48.038686Z"
    },
    "papermill": {
     "duration": 0.01308,
     "end_time": "2025-07-04T20:02:48.040471",
     "exception": false,
     "start_time": "2025-07-04T20:02:48.027391",
     "status": "completed"
    },
    "tags": []
   },
   "outputs": [],
   "source": [
    "def create_sub(preds, fn=None):\n",
    "    df =  pd.DataFrame({'id': range(len(preds)), 'Prediction': preds})\n",
    "    return df"
   ]
  },
  {
   "cell_type": "markdown",
   "id": "978edf91",
   "metadata": {
    "papermill": {
     "duration": 0.007837,
     "end_time": "2025-07-04T20:02:48.056269",
     "exception": false,
     "start_time": "2025-07-04T20:02:48.048432",
     "status": "completed"
    },
    "tags": []
   },
   "source": [
    "Here, we just compute the mean from the training data and repeat it for every test case."
   ]
  },
  {
   "cell_type": "code",
   "execution_count": 18,
   "id": "207bc87d",
   "metadata": {
    "execution": {
     "iopub.execute_input": "2025-07-04T20:02:48.073517Z",
     "iopub.status.busy": "2025-07-04T20:02:48.073257Z",
     "iopub.status.idle": "2025-07-04T20:02:48.077436Z",
     "shell.execute_reply": "2025-07-04T20:02:48.076702Z"
    },
    "papermill": {
     "duration": 0.013661,
     "end_time": "2025-07-04T20:02:48.078460",
     "exception": false,
     "start_time": "2025-07-04T20:02:48.064799",
     "status": "completed"
    },
    "tags": []
   },
   "outputs": [],
   "source": [
    "df_sub = create_sub([df_train.bike_count.mean()]*len(df_test))"
   ]
  },
  {
   "cell_type": "code",
   "execution_count": 19,
   "id": "75c3be00",
   "metadata": {
    "execution": {
     "iopub.execute_input": "2025-07-04T20:02:48.095586Z",
     "iopub.status.busy": "2025-07-04T20:02:48.094950Z",
     "iopub.status.idle": "2025-07-04T20:02:48.104516Z",
     "shell.execute_reply": "2025-07-04T20:02:48.103770Z"
    },
    "papermill": {
     "duration": 0.018999,
     "end_time": "2025-07-04T20:02:48.105635",
     "exception": false,
     "start_time": "2025-07-04T20:02:48.086636",
     "status": "completed"
    },
    "tags": []
   },
   "outputs": [
    {
     "data": {
      "text/html": [
       "<div>\n",
       "<style scoped>\n",
       "    .dataframe tbody tr th:only-of-type {\n",
       "        vertical-align: middle;\n",
       "    }\n",
       "\n",
       "    .dataframe tbody tr th {\n",
       "        vertical-align: top;\n",
       "    }\n",
       "\n",
       "    .dataframe thead th {\n",
       "        text-align: right;\n",
       "    }\n",
       "</style>\n",
       "<table border=\"1\" class=\"dataframe\">\n",
       "  <thead>\n",
       "    <tr style=\"text-align: right;\">\n",
       "      <th></th>\n",
       "      <th>id</th>\n",
       "      <th>Prediction</th>\n",
       "    </tr>\n",
       "  </thead>\n",
       "  <tbody>\n",
       "    <tr>\n",
       "      <th>0</th>\n",
       "      <td>0</td>\n",
       "      <td>4767.051507</td>\n",
       "    </tr>\n",
       "    <tr>\n",
       "      <th>1</th>\n",
       "      <td>1</td>\n",
       "      <td>4767.051507</td>\n",
       "    </tr>\n",
       "    <tr>\n",
       "      <th>2</th>\n",
       "      <td>2</td>\n",
       "      <td>4767.051507</td>\n",
       "    </tr>\n",
       "    <tr>\n",
       "      <th>3</th>\n",
       "      <td>3</td>\n",
       "      <td>4767.051507</td>\n",
       "    </tr>\n",
       "    <tr>\n",
       "      <th>4</th>\n",
       "      <td>4</td>\n",
       "      <td>4767.051507</td>\n",
       "    </tr>\n",
       "    <tr>\n",
       "      <th>...</th>\n",
       "      <td>...</td>\n",
       "      <td>...</td>\n",
       "    </tr>\n",
       "    <tr>\n",
       "      <th>385</th>\n",
       "      <td>385</td>\n",
       "      <td>4767.051507</td>\n",
       "    </tr>\n",
       "    <tr>\n",
       "      <th>386</th>\n",
       "      <td>386</td>\n",
       "      <td>4767.051507</td>\n",
       "    </tr>\n",
       "    <tr>\n",
       "      <th>387</th>\n",
       "      <td>387</td>\n",
       "      <td>4767.051507</td>\n",
       "    </tr>\n",
       "    <tr>\n",
       "      <th>388</th>\n",
       "      <td>388</td>\n",
       "      <td>4767.051507</td>\n",
       "    </tr>\n",
       "    <tr>\n",
       "      <th>389</th>\n",
       "      <td>389</td>\n",
       "      <td>4767.051507</td>\n",
       "    </tr>\n",
       "  </tbody>\n",
       "</table>\n",
       "<p>390 rows × 2 columns</p>\n",
       "</div>"
      ],
      "text/plain": [
       "      id   Prediction\n",
       "0      0  4767.051507\n",
       "1      1  4767.051507\n",
       "2      2  4767.051507\n",
       "3      3  4767.051507\n",
       "4      4  4767.051507\n",
       "..   ...          ...\n",
       "385  385  4767.051507\n",
       "386  386  4767.051507\n",
       "387  387  4767.051507\n",
       "388  388  4767.051507\n",
       "389  389  4767.051507\n",
       "\n",
       "[390 rows x 2 columns]"
      ]
     },
     "execution_count": 19,
     "metadata": {},
     "output_type": "execute_result"
    }
   ],
   "source": [
    "df_sub"
   ]
  },
  {
   "cell_type": "code",
   "execution_count": 20,
   "id": "a2aff966",
   "metadata": {
    "execution": {
     "iopub.execute_input": "2025-07-04T20:02:48.122692Z",
     "iopub.status.busy": "2025-07-04T20:02:48.122496Z",
     "iopub.status.idle": "2025-07-04T20:02:48.126257Z",
     "shell.execute_reply": "2025-07-04T20:02:48.125583Z"
    },
    "papermill": {
     "duration": 0.013527,
     "end_time": "2025-07-04T20:02:48.127356",
     "exception": false,
     "start_time": "2025-07-04T20:02:48.113829",
     "status": "completed"
    },
    "tags": []
   },
   "outputs": [],
   "source": [
    "def add_date_features(df):\n",
    "    df['year'] = df['date'].dt.year\n",
    "    df['month'] = df['date'].dt.month\n",
    "    df['day'] = df['date'].dt.day\n",
    "    df['weekday'] = df['date'].dt.weekday\n",
    "    df['is_weekend'] = df['weekday'].isin([5,6]).astype(int)\n",
    "    return df"
   ]
  },
  {
   "cell_type": "code",
   "execution_count": 21,
   "id": "4e4192fe",
   "metadata": {
    "execution": {
     "iopub.execute_input": "2025-07-04T20:02:48.144347Z",
     "iopub.status.busy": "2025-07-04T20:02:48.143826Z",
     "iopub.status.idle": "2025-07-04T20:02:48.158459Z",
     "shell.execute_reply": "2025-07-04T20:02:48.158058Z"
    },
    "papermill": {
     "duration": 0.02436,
     "end_time": "2025-07-04T20:02:48.159687",
     "exception": false,
     "start_time": "2025-07-04T20:02:48.135327",
     "status": "completed"
    },
    "tags": []
   },
   "outputs": [],
   "source": [
    "train = add_date_features(df_train)\n",
    "test = add_date_features(df_test)"
   ]
  },
  {
   "cell_type": "code",
   "execution_count": 22,
   "id": "63c30dd6",
   "metadata": {
    "execution": {
     "iopub.execute_input": "2025-07-04T20:02:48.179425Z",
     "iopub.status.busy": "2025-07-04T20:02:48.179212Z",
     "iopub.status.idle": "2025-07-04T20:02:48.189251Z",
     "shell.execute_reply": "2025-07-04T20:02:48.188677Z"
    },
    "papermill": {
     "duration": 0.021662,
     "end_time": "2025-07-04T20:02:48.190374",
     "exception": false,
     "start_time": "2025-07-04T20:02:48.168712",
     "status": "completed"
    },
    "tags": []
   },
   "outputs": [],
   "source": [
    "train.ffill(inplace=True)\n",
    "test.ffill(inplace=True)"
   ]
  },
  {
   "cell_type": "code",
   "execution_count": 23,
   "id": "a4a93c99",
   "metadata": {
    "execution": {
     "iopub.execute_input": "2025-07-04T20:02:48.208247Z",
     "iopub.status.busy": "2025-07-04T20:02:48.208010Z",
     "iopub.status.idle": "2025-07-04T20:02:48.212613Z",
     "shell.execute_reply": "2025-07-04T20:02:48.212061Z"
    },
    "papermill": {
     "duration": 0.014917,
     "end_time": "2025-07-04T20:02:48.213763",
     "exception": false,
     "start_time": "2025-07-04T20:02:48.198846",
     "status": "completed"
    },
    "tags": []
   },
   "outputs": [],
   "source": [
    "# ---------- 이상치 제거 ----------\n",
    "train = train[train['bike_count'] < 30000]"
   ]
  },
  {
   "cell_type": "code",
   "execution_count": 24,
   "id": "2f1b59f6",
   "metadata": {
    "execution": {
     "iopub.execute_input": "2025-07-04T20:02:48.233347Z",
     "iopub.status.busy": "2025-07-04T20:02:48.232644Z",
     "iopub.status.idle": "2025-07-04T20:02:48.236139Z",
     "shell.execute_reply": "2025-07-04T20:02:48.235587Z"
    },
    "papermill": {
     "duration": 0.014064,
     "end_time": "2025-07-04T20:02:48.237275",
     "exception": false,
     "start_time": "2025-07-04T20:02:48.223211",
     "status": "completed"
    },
    "tags": []
   },
   "outputs": [],
   "source": [
    "features = [\n",
    "    'temperature', 'humidity', 'windspeed', 'wind_direction',\n",
    "    'visibility', 'precipitation', 'sun', 'windspeed_max',\n",
    "    'precip_indic', 'precip_type',\n",
    "    'school_holiday_indicator', 'public_holiday_indicator', 'is_workday',\n",
    "    'year', 'month', 'weekday', 'is_weekend'\n",
    "]"
   ]
  },
  {
   "cell_type": "code",
   "execution_count": 25,
   "id": "44b02f02",
   "metadata": {
    "execution": {
     "iopub.execute_input": "2025-07-04T20:02:48.255196Z",
     "iopub.status.busy": "2025-07-04T20:02:48.254981Z",
     "iopub.status.idle": "2025-07-04T20:02:48.260437Z",
     "shell.execute_reply": "2025-07-04T20:02:48.259871Z"
    },
    "papermill": {
     "duration": 0.015623,
     "end_time": "2025-07-04T20:02:48.261515",
     "exception": false,
     "start_time": "2025-07-04T20:02:48.245892",
     "status": "completed"
    },
    "tags": []
   },
   "outputs": [],
   "source": [
    "X = train[features]\n",
    "y = train['bike_count']\n",
    "X_test = test[features]"
   ]
  },
  {
   "cell_type": "code",
   "execution_count": 26,
   "id": "1bf0f90d",
   "metadata": {
    "execution": {
     "iopub.execute_input": "2025-07-04T20:02:48.280661Z",
     "iopub.status.busy": "2025-07-04T20:02:48.280439Z",
     "iopub.status.idle": "2025-07-04T20:02:50.346398Z",
     "shell.execute_reply": "2025-07-04T20:02:50.345514Z"
    },
    "papermill": {
     "duration": 2.076682,
     "end_time": "2025-07-04T20:02:50.347611",
     "exception": false,
     "start_time": "2025-07-04T20:02:48.270929",
     "status": "completed"
    },
    "tags": []
   },
   "outputs": [
    {
     "name": "stdout",
     "output_type": "stream",
     "text": [
      "0:\tlearn: 1923.0299975\ttest: 2014.1640376\tbest: 2014.1640376 (0)\ttotal: 57ms\tremaining: 57s\n",
      "100:\tlearn: 686.8350432\ttest: 836.8567429\tbest: 836.8567429 (100)\ttotal: 237ms\tremaining: 2.11s\n",
      "200:\tlearn: 574.0500517\ttest: 771.0482084\tbest: 771.0482084 (200)\ttotal: 403ms\tremaining: 1.6s\n",
      "300:\tlearn: 499.7567524\ttest: 746.9863129\tbest: 746.9863129 (300)\ttotal: 574ms\tremaining: 1.33s\n",
      "400:\tlearn: 450.6573038\ttest: 736.3966684\tbest: 736.3096187 (395)\ttotal: 753ms\tremaining: 1.13s\n",
      "500:\tlearn: 413.3187027\ttest: 731.7231166\tbest: 731.3733096 (493)\ttotal: 921ms\tremaining: 917ms\n",
      "600:\tlearn: 381.3599830\ttest: 726.3547665\tbest: 726.3547665 (600)\ttotal: 1.1s\tremaining: 728ms\n",
      "700:\tlearn: 357.9335504\ttest: 722.8398129\tbest: 722.8398129 (700)\ttotal: 1.27s\tremaining: 542ms\n",
      "800:\tlearn: 336.2252229\ttest: 722.1318448\tbest: 721.9245222 (797)\ttotal: 1.44s\tremaining: 358ms\n",
      "900:\tlearn: 314.9214550\ttest: 721.2716504\tbest: 720.7587863 (867)\ttotal: 1.61s\tremaining: 178ms\n",
      "999:\tlearn: 296.9645955\ttest: 720.3003141\tbest: 720.2235327 (997)\ttotal: 1.79s\tremaining: 0us\n",
      "\n",
      "bestTest = 720.2235327\n",
      "bestIteration = 997\n",
      "\n",
      "Shrink model to first 998 iterations.\n"
     ]
    }
   ],
   "source": [
    "X_train, X_val, y_train, y_val = train_test_split(X, y, test_size=0.2, random_state=42)\n",
    "\n",
    "model = CatBoostRegressor(\n",
    "    iterations=1000,\n",
    "    learning_rate=0.05,\n",
    "    depth=6,\n",
    "    random_state=42,\n",
    "    verbose=100\n",
    ")\n",
    "\n",
    "model.fit(X_train, y_train, eval_set=(X_val, y_val), early_stopping_rounds=50)\n",
    "y_pred = model.predict(X_val)"
   ]
  },
  {
   "cell_type": "code",
   "execution_count": 27,
   "id": "2792dcb2",
   "metadata": {
    "execution": {
     "iopub.execute_input": "2025-07-04T20:02:50.365954Z",
     "iopub.status.busy": "2025-07-04T20:02:50.365708Z",
     "iopub.status.idle": "2025-07-04T20:02:50.372745Z",
     "shell.execute_reply": "2025-07-04T20:02:50.371957Z"
    },
    "papermill": {
     "duration": 0.017603,
     "end_time": "2025-07-04T20:02:50.374183",
     "exception": false,
     "start_time": "2025-07-04T20:02:50.356580",
     "status": "completed"
    },
    "tags": []
   },
   "outputs": [
    {
     "name": "stdout",
     "output_type": "stream",
     "text": [
      "Validation MAE: 381.84\n"
     ]
    }
   ],
   "source": [
    "val_preds = model.predict(X_val)\n",
    "mae = mean_absolute_error(y_val, val_preds)\n",
    "print(f\"Validation MAE: {mae:.2f}\")"
   ]
  },
  {
   "cell_type": "code",
   "execution_count": 28,
   "id": "b3bed2d0",
   "metadata": {
    "execution": {
     "iopub.execute_input": "2025-07-04T20:02:50.391780Z",
     "iopub.status.busy": "2025-07-04T20:02:50.391567Z",
     "iopub.status.idle": "2025-07-04T20:02:50.412720Z",
     "shell.execute_reply": "2025-07-04T20:02:50.411889Z"
    },
    "papermill": {
     "duration": 0.031102,
     "end_time": "2025-07-04T20:02:50.413806",
     "exception": false,
     "start_time": "2025-07-04T20:02:50.382704",
     "status": "completed"
    },
    "tags": []
   },
   "outputs": [
    {
     "name": "stdout",
     "output_type": "stream",
     "text": [
      "✅ submission.csv 저장 완료\n"
     ]
    }
   ],
   "source": [
    "sample_submission = pd.read_csv('/kaggle/input/umr-ml-2025-hackathon-1/test_submission.csv')\n",
    "\n",
    "# prediction\n",
    "test_preds = model.predict(X_test)\n",
    "\n",
    "# save\n",
    "submission = pd.DataFrame({\n",
    "    'id': sample_submission['id'],\n",
    "    'Prediction': np.round(test_preds).astype(int)\n",
    "})\n",
    "\n",
    "# CSV save\n",
    "submission.to_csv('submission.csv', index=False)\n",
    "print(\"✅ submission.csv 저장 완료\")"
   ]
  },
  {
   "cell_type": "markdown",
   "id": "5a89781d",
   "metadata": {
    "papermill": {
     "duration": 0.008274,
     "end_time": "2025-07-04T20:02:50.430598",
     "exception": false,
     "start_time": "2025-07-04T20:02:50.422324",
     "status": "completed"
    },
    "tags": []
   },
   "source": [
    "This data frame can be converted to a csv file. "
   ]
  },
  {
   "cell_type": "markdown",
   "id": "dd0a4cd6",
   "metadata": {
    "papermill": {
     "duration": 0.00815,
     "end_time": "2025-07-04T20:02:50.447777",
     "exception": false,
     "start_time": "2025-07-04T20:02:50.439627",
     "status": "completed"
    },
    "tags": []
   },
   "source": [
    "**Linear regression model**\n",
    "\n",
    "As a slightly more complex alternative, let's also consider a linear regression model.\n",
    "\n",
    "We first drop the date information."
   ]
  },
  {
   "cell_type": "markdown",
   "id": "caccfb87",
   "metadata": {
    "papermill": {
     "duration": 0.00825,
     "end_time": "2025-07-04T20:02:50.464632",
     "exception": false,
     "start_time": "2025-07-04T20:02:50.456382",
     "status": "completed"
    },
    "tags": []
   },
   "source": [
    "To build a LR model, we use functionalities from the scikitlearn package."
   ]
  },
  {
   "cell_type": "markdown",
   "id": "778aa887",
   "metadata": {
    "papermill": {
     "duration": 0.008117,
     "end_time": "2025-07-04T20:02:50.481114",
     "exception": false,
     "start_time": "2025-07-04T20:02:50.472997",
     "status": "completed"
    },
    "tags": []
   },
   "source": [
    "We can now take a look at the estimated parameters."
   ]
  },
  {
   "cell_type": "markdown",
   "id": "12ae1ff8",
   "metadata": {
    "papermill": {
     "duration": 0.008085,
     "end_time": "2025-07-04T20:02:50.497450",
     "exception": false,
     "start_time": "2025-07-04T20:02:50.489365",
     "status": "completed"
    },
    "tags": []
   },
   "source": [
    "Note the inherent interpretability of the model coefficients (larger absolute values correspond to \"more important\" influence of the corresponding predictors). Further, for example for 'is_workday' the coefficient can be interpreted as follows: When increasing the feature by 1 (i.e., going from 0 to 1), and leaving everything else constant, we can expect an increase in the target variable by around 2637. If 'temperature', increases by 1 degree Celsius, we can expect on average 121 bikes more (leaving everythign else constant) according to the model."
   ]
  },
  {
   "cell_type": "markdown",
   "id": "10a0cf71",
   "metadata": {
    "papermill": {
     "duration": 0.008845,
     "end_time": "2025-07-04T20:02:50.514673",
     "exception": false,
     "start_time": "2025-07-04T20:02:50.505828",
     "status": "completed"
    },
    "tags": []
   },
   "source": [
    "**Considerations for models**\n",
    "\n",
    "- How to treat outliers? What is an outlier?\n",
    "- How to best utilize information in the input features?\n",
    "- How informative are certain features, e.g., precipitation type and indicator?\n",
    "- What other, potentially useful, information can be extracted?\n",
    "- We might want to split the training data into training and validation data to choose hyperparameters.\n"
   ]
  },
  {
   "cell_type": "markdown",
   "id": "48be3d29",
   "metadata": {
    "papermill": {
     "duration": 0.009004,
     "end_time": "2025-07-04T20:02:50.532831",
     "exception": false,
     "start_time": "2025-07-04T20:02:50.523827",
     "status": "completed"
    },
    "tags": []
   },
   "source": [
    "Some starting points:"
   ]
  },
  {
   "cell_type": "markdown",
   "id": "87d1373f",
   "metadata": {
    "papermill": {
     "duration": 0.008715,
     "end_time": "2025-07-04T20:02:50.550711",
     "exception": false,
     "start_time": "2025-07-04T20:02:50.541996",
     "status": "completed"
    },
    "tags": []
   },
   "source": [
    "**Weekday information**"
   ]
  },
  {
   "cell_type": "code",
   "execution_count": 29,
   "id": "1cf4019a",
   "metadata": {
    "execution": {
     "iopub.execute_input": "2025-07-04T20:02:50.569045Z",
     "iopub.status.busy": "2025-07-04T20:02:50.568781Z",
     "iopub.status.idle": "2025-07-04T20:02:50.865228Z",
     "shell.execute_reply": "2025-07-04T20:02:50.864482Z"
    },
    "papermill": {
     "duration": 0.307055,
     "end_time": "2025-07-04T20:02:50.866537",
     "exception": false,
     "start_time": "2025-07-04T20:02:50.559482",
     "status": "completed"
    },
    "tags": []
   },
   "outputs": [
    {
     "data": {
      "text/plain": [
       "<Axes: xlabel='date', ylabel='bike_count'>"
      ]
     },
     "execution_count": 29,
     "metadata": {},
     "output_type": "execute_result"
    },
    {
     "data": {
      "image/png": "[encoded data removed]",
      "text/plain": [
       "<Figure size 640x480 with 1 Axes>"
      ]
     },
     "metadata": {},
     "output_type": "display_data"
    }
   ],
   "source": [
    "sns.barplot(data=df_train, x= df_train['date'].dt.weekday , y = 'bike_count')\n",
    "# Monday = 0"
   ]
  },
  {
   "cell_type": "markdown",
   "id": "ac152a79",
   "metadata": {
    "papermill": {
     "duration": 0.009615,
     "end_time": "2025-07-04T20:02:50.886325",
     "exception": false,
     "start_time": "2025-07-04T20:02:50.876710",
     "status": "completed"
    },
    "tags": []
   },
   "source": [
    "**Correlation Matrix**"
   ]
  },
  {
   "cell_type": "code",
   "execution_count": 30,
   "id": "362785bb",
   "metadata": {
    "execution": {
     "iopub.execute_input": "2025-07-04T20:02:50.906637Z",
     "iopub.status.busy": "2025-07-04T20:02:50.906423Z",
     "iopub.status.idle": "2025-07-04T20:02:50.929857Z",
     "shell.execute_reply": "2025-07-04T20:02:50.929269Z"
    },
    "papermill": {
     "duration": 0.035041,
     "end_time": "2025-07-04T20:02:50.931090",
     "exception": false,
     "start_time": "2025-07-04T20:02:50.896049",
     "status": "completed"
    },
    "tags": []
   },
   "outputs": [
    {
     "data": {
      "text/html": [
       "<div>\n",
       "<style scoped>\n",
       "    .dataframe tbody tr th:only-of-type {\n",
       "        vertical-align: middle;\n",
       "    }\n",
       "\n",
       "    .dataframe tbody tr th {\n",
       "        vertical-align: top;\n",
       "    }\n",
       "\n",
       "    .dataframe thead th {\n",
       "        text-align: right;\n",
       "    }\n",
       "</style>\n",
       "<table border=\"1\" class=\"dataframe\">\n",
       "  <thead>\n",
       "    <tr style=\"text-align: right;\">\n",
       "      <th></th>\n",
       "      <th>bike_count</th>\n",
       "      <th>temperature</th>\n",
       "      <th>humidity</th>\n",
       "      <th>windspeed</th>\n",
       "      <th>wind_direction</th>\n",
       "      <th>visibility</th>\n",
       "      <th>precipitation</th>\n",
       "      <th>sun</th>\n",
       "      <th>windspeed_max</th>\n",
       "      <th>precip_indic</th>\n",
       "      <th>precip_type</th>\n",
       "      <th>school_holiday_indicator</th>\n",
       "      <th>public_holiday_indicator</th>\n",
       "      <th>is_workday</th>\n",
       "      <th>year</th>\n",
       "      <th>month</th>\n",
       "      <th>day</th>\n",
       "      <th>weekday</th>\n",
       "      <th>is_weekend</th>\n",
       "    </tr>\n",
       "  </thead>\n",
       "  <tbody>\n",
       "    <tr>\n",
       "      <th>bike_count</th>\n",
       "      <td>1.000000</td>\n",
       "      <td>0.482530</td>\n",
       "      <td>-0.366172</td>\n",
       "      <td>-0.211868</td>\n",
       "      <td>-0.027278</td>\n",
       "      <td>0.209376</td>\n",
       "      <td>-0.218455</td>\n",
       "      <td>0.406989</td>\n",
       "      <td>-0.142020</td>\n",
       "      <td>-0.295623</td>\n",
       "      <td>-0.292796</td>\n",
       "      <td>-0.025964</td>\n",
       "      <td>-0.283459</td>\n",
       "      <td>0.640148</td>\n",
       "      <td>0.014806</td>\n",
       "      <td>0.093921</td>\n",
       "      <td>0.004874</td>\n",
       "      <td>-0.470640</td>\n",
       "      <td>-0.564091</td>\n",
       "    </tr>\n",
       "    <tr>\n",
       "      <th>temperature</th>\n",
       "      <td>0.482530</td>\n",
       "      <td>1.000000</td>\n",
       "      <td>-0.603229</td>\n",
       "      <td>-0.131444</td>\n",
       "      <td>0.118907</td>\n",
       "      <td>0.490243</td>\n",
       "      <td>-0.020292</td>\n",
       "      <td>0.586324</td>\n",
       "      <td>0.028486</td>\n",
       "      <td>-0.203915</td>\n",
       "      <td>-0.209622</td>\n",
       "      <td>0.233536</td>\n",
       "      <td>-0.043018</td>\n",
       "      <td>0.010816</td>\n",
       "      <td>-0.000889</td>\n",
       "      <td>0.150182</td>\n",
       "      <td>0.013424</td>\n",
       "      <td>0.006397</td>\n",
       "      <td>0.000142</td>\n",
       "    </tr>\n",
       "    <tr>\n",
       "      <th>humidity</th>\n",
       "      <td>-0.366172</td>\n",
       "      <td>-0.603229</td>\n",
       "      <td>1.000000</td>\n",
       "      <td>-0.041803</td>\n",
       "      <td>0.183248</td>\n",
       "      <td>-0.601747</td>\n",
       "      <td>0.298716</td>\n",
       "      <td>-0.792583</td>\n",
       "      <td>-0.122864</td>\n",
       "      <td>0.422234</td>\n",
       "      <td>0.419270</td>\n",
       "      <td>-0.150886</td>\n",
       "      <td>0.044913</td>\n",
       "      <td>-0.019796</td>\n",
       "      <td>-0.139145</td>\n",
       "      <td>0.201197</td>\n",
       "      <td>-0.030313</td>\n",
       "      <td>0.007359</td>\n",
       "      <td>0.013604</td>\n",
       "    </tr>\n",
       "    <tr>\n",
       "      <th>windspeed</th>\n",
       "      <td>-0.211868</td>\n",
       "      <td>-0.131444</td>\n",
       "      <td>-0.041803</td>\n",
       "      <td>1.000000</td>\n",
       "      <td>0.104963</td>\n",
       "      <td>0.184163</td>\n",
       "      <td>0.186417</td>\n",
       "      <td>-0.233792</td>\n",
       "      <td>0.839175</td>\n",
       "      <td>0.325412</td>\n",
       "      <td>0.305584</td>\n",
       "      <td>-0.036417</td>\n",
       "      <td>-0.014332</td>\n",
       "      <td>-0.014800</td>\n",
       "      <td>0.013183</td>\n",
       "      <td>-0.148962</td>\n",
       "      <td>0.014400</td>\n",
       "      <td>0.006337</td>\n",
       "      <td>0.018777</td>\n",
       "    </tr>\n",
       "    <tr>\n",
       "      <th>wind_direction</th>\n",
       "      <td>-0.027278</td>\n",
       "      <td>0.118907</td>\n",
       "      <td>0.183248</td>\n",
       "      <td>0.104963</td>\n",
       "      <td>1.000000</td>\n",
       "      <td>0.151833</td>\n",
       "      <td>0.168407</td>\n",
       "      <td>-0.230804</td>\n",
       "      <td>0.172586</td>\n",
       "      <td>0.211034</td>\n",
       "      <td>0.198664</td>\n",
       "      <td>0.067383</td>\n",
       "      <td>0.008915</td>\n",
       "      <td>0.012733</td>\n",
       "      <td>-0.037043</td>\n",
       "      <td>0.039292</td>\n",
       "      <td>-0.008178</td>\n",
       "      <td>-0.012587</td>\n",
       "      <td>-0.015293</td>\n",
       "    </tr>\n",
       "    <tr>\n",
       "      <th>visibility</th>\n",
       "      <td>0.209376</td>\n",
       "      <td>0.490243</td>\n",
       "      <td>-0.601747</td>\n",
       "      <td>0.184163</td>\n",
       "      <td>0.151833</td>\n",
       "      <td>1.000000</td>\n",
       "      <td>-0.095952</td>\n",
       "      <td>0.402015</td>\n",
       "      <td>0.301689</td>\n",
       "      <td>-0.149796</td>\n",
       "      <td>-0.163314</td>\n",
       "      <td>0.132694</td>\n",
       "      <td>-0.003699</td>\n",
       "      <td>0.008679</td>\n",
       "      <td>0.337759</td>\n",
       "      <td>-0.022312</td>\n",
       "      <td>-0.001807</td>\n",
       "      <td>-0.021975</td>\n",
       "      <td>-0.014699</td>\n",
       "    </tr>\n",
       "    <tr>\n",
       "      <th>precipitation</th>\n",
       "      <td>-0.218455</td>\n",
       "      <td>-0.020292</td>\n",
       "      <td>0.298716</td>\n",
       "      <td>0.186417</td>\n",
       "      <td>0.168407</td>\n",
       "      <td>-0.095952</td>\n",
       "      <td>1.000000</td>\n",
       "      <td>-0.287452</td>\n",
       "      <td>0.278492</td>\n",
       "      <td>0.497588</td>\n",
       "      <td>0.469996</td>\n",
       "      <td>-0.014344</td>\n",
       "      <td>0.008619</td>\n",
       "      <td>-0.028631</td>\n",
       "      <td>-0.012596</td>\n",
       "      <td>0.019580</td>\n",
       "      <td>-0.028204</td>\n",
       "      <td>0.031889</td>\n",
       "      <td>0.025413</td>\n",
       "    </tr>\n",
       "    <tr>\n",
       "      <th>sun</th>\n",
       "      <td>0.406989</td>\n",
       "      <td>0.586324</td>\n",
       "      <td>-0.792583</td>\n",
       "      <td>-0.233792</td>\n",
       "      <td>-0.230804</td>\n",
       "      <td>0.402015</td>\n",
       "      <td>-0.287452</td>\n",
       "      <td>1.000000</td>\n",
       "      <td>-0.130442</td>\n",
       "      <td>-0.463618</td>\n",
       "      <td>-0.461409</td>\n",
       "      <td>0.115432</td>\n",
       "      <td>-0.022395</td>\n",
       "      <td>0.005275</td>\n",
       "      <td>0.050080</td>\n",
       "      <td>-0.079020</td>\n",
       "      <td>0.033633</td>\n",
       "      <td>0.002418</td>\n",
       "      <td>-0.004247</td>\n",
       "    </tr>\n",
       "    <tr>\n",
       "      <th>windspeed_max</th>\n",
       "      <td>-0.142020</td>\n",
       "      <td>0.028486</td>\n",
       "      <td>-0.122864</td>\n",
       "      <td>0.839175</td>\n",
       "      <td>0.172586</td>\n",
       "      <td>0.301689</td>\n",
       "      <td>0.278492</td>\n",
       "      <td>-0.130442</td>\n",
       "      <td>1.000000</td>\n",
       "      <td>0.288072</td>\n",
       "      <td>0.272293</td>\n",
       "      <td>0.000521</td>\n",
       "      <td>-0.013059</td>\n",
       "      <td>-0.005384</td>\n",
       "      <td>0.019008</td>\n",
       "      <td>-0.142998</td>\n",
       "      <td>-0.006939</td>\n",
       "      <td>0.004578</td>\n",
       "      <td>0.006043</td>\n",
       "    </tr>\n",
       "    <tr>\n",
       "      <th>precip_indic</th>\n",
       "      <td>-0.295623</td>\n",
       "      <td>-0.203915</td>\n",
       "      <td>0.422234</td>\n",
       "      <td>0.325412</td>\n",
       "      <td>0.211034</td>\n",
       "      <td>-0.149796</td>\n",
       "      <td>0.497588</td>\n",
       "      <td>-0.463618</td>\n",
       "      <td>0.288072</td>\n",
       "      <td>1.000000</td>\n",
       "      <td>0.899434</td>\n",
       "      <td>-0.055335</td>\n",
       "      <td>0.025297</td>\n",
       "      <td>-0.007670</td>\n",
       "      <td>-0.015445</td>\n",
       "      <td>-0.005677</td>\n",
       "      <td>-0.035657</td>\n",
       "      <td>-0.008896</td>\n",
       "      <td>0.001226</td>\n",
       "    </tr>\n",
       "    <tr>\n",
       "      <th>precip_type</th>\n",
       "      <td>-0.292796</td>\n",
       "      <td>-0.209622</td>\n",
       "      <td>0.419270</td>\n",
       "      <td>0.305584</td>\n",
       "      <td>0.198664</td>\n",
       "      <td>-0.163314</td>\n",
       "      <td>0.469996</td>\n",
       "      <td>-0.461409</td>\n",
       "      <td>0.272293</td>\n",
       "      <td>0.899434</td>\n",
       "      <td>1.000000</td>\n",
       "      <td>-0.049814</td>\n",
       "      <td>0.012829</td>\n",
       "      <td>-0.009537</td>\n",
       "      <td>-0.027921</td>\n",
       "      <td>0.002285</td>\n",
       "      <td>-0.037415</td>\n",
       "      <td>0.000716</td>\n",
       "      <td>0.008000</td>\n",
       "    </tr>\n",
       "    <tr>\n",
       "      <th>school_holiday_indicator</th>\n",
       "      <td>-0.025964</td>\n",
       "      <td>0.233536</td>\n",
       "      <td>-0.150886</td>\n",
       "      <td>-0.036417</td>\n",
       "      <td>0.067383</td>\n",
       "      <td>0.132694</td>\n",
       "      <td>-0.014344</td>\n",
       "      <td>0.115432</td>\n",
       "      <td>0.000521</td>\n",
       "      <td>-0.055335</td>\n",
       "      <td>-0.049814</td>\n",
       "      <td>1.000000</td>\n",
       "      <td>0.114938</td>\n",
       "      <td>-0.002230</td>\n",
       "      <td>0.026693</td>\n",
       "      <td>0.097476</td>\n",
       "      <td>0.008741</td>\n",
       "      <td>-0.016214</td>\n",
       "      <td>-0.038738</td>\n",
       "    </tr>\n",
       "    <tr>\n",
       "      <th>public_holiday_indicator</th>\n",
       "      <td>-0.283459</td>\n",
       "      <td>-0.043018</td>\n",
       "      <td>0.044913</td>\n",
       "      <td>-0.014332</td>\n",
       "      <td>0.008915</td>\n",
       "      <td>-0.003699</td>\n",
       "      <td>0.008619</td>\n",
       "      <td>-0.022395</td>\n",
       "      <td>-0.013059</td>\n",
       "      <td>0.025297</td>\n",
       "      <td>0.012829</td>\n",
       "      <td>0.114938</td>\n",
       "      <td>1.000000</td>\n",
       "      <td>-0.273654</td>\n",
       "      <td>0.000534</td>\n",
       "      <td>-0.009723</td>\n",
       "      <td>-0.076636</td>\n",
       "      <td>-0.041648</td>\n",
       "      <td>-0.053442</td>\n",
       "    </tr>\n",
       "    <tr>\n",
       "      <th>is_workday</th>\n",
       "      <td>0.640148</td>\n",
       "      <td>0.010816</td>\n",
       "      <td>-0.019796</td>\n",
       "      <td>-0.014800</td>\n",
       "      <td>0.012733</td>\n",
       "      <td>0.008679</td>\n",
       "      <td>-0.028631</td>\n",
       "      <td>0.005275</td>\n",
       "      <td>-0.005384</td>\n",
       "      <td>-0.007670</td>\n",
       "      <td>-0.009537</td>\n",
       "      <td>-0.002230</td>\n",
       "      <td>-0.273654</td>\n",
       "      <td>1.000000</td>\n",
       "      <td>0.004239</td>\n",
       "      <td>0.006751</td>\n",
       "      <td>0.022091</td>\n",
       "      <td>-0.739353</td>\n",
       "      <td>-0.935548</td>\n",
       "    </tr>\n",
       "    <tr>\n",
       "      <th>year</th>\n",
       "      <td>0.014806</td>\n",
       "      <td>-0.000889</td>\n",
       "      <td>-0.139145</td>\n",
       "      <td>0.013183</td>\n",
       "      <td>-0.037043</td>\n",
       "      <td>0.337759</td>\n",
       "      <td>-0.012596</td>\n",
       "      <td>0.050080</td>\n",
       "      <td>0.019008</td>\n",
       "      <td>-0.015445</td>\n",
       "      <td>-0.027921</td>\n",
       "      <td>0.026693</td>\n",
       "      <td>0.000534</td>\n",
       "      <td>0.004239</td>\n",
       "      <td>1.000000</td>\n",
       "      <td>-0.058507</td>\n",
       "      <td>-0.004346</td>\n",
       "      <td>0.000071</td>\n",
       "      <td>0.000042</td>\n",
       "    </tr>\n",
       "    <tr>\n",
       "      <th>month</th>\n",
       "      <td>0.093921</td>\n",
       "      <td>0.150182</td>\n",
       "      <td>0.201197</td>\n",
       "      <td>-0.148962</td>\n",
       "      <td>0.039292</td>\n",
       "      <td>-0.022312</td>\n",
       "      <td>0.019580</td>\n",
       "      <td>-0.079020</td>\n",
       "      <td>-0.142998</td>\n",
       "      <td>-0.005677</td>\n",
       "      <td>0.002285</td>\n",
       "      <td>0.097476</td>\n",
       "      <td>-0.009723</td>\n",
       "      <td>0.006751</td>\n",
       "      <td>-0.058507</td>\n",
       "      <td>1.000000</td>\n",
       "      <td>0.008855</td>\n",
       "      <td>-0.000761</td>\n",
       "      <td>0.000583</td>\n",
       "    </tr>\n",
       "    <tr>\n",
       "      <th>day</th>\n",
       "      <td>0.004874</td>\n",
       "      <td>0.013424</td>\n",
       "      <td>-0.030313</td>\n",
       "      <td>0.014400</td>\n",
       "      <td>-0.008178</td>\n",
       "      <td>-0.001807</td>\n",
       "      <td>-0.028204</td>\n",
       "      <td>0.033633</td>\n",
       "      <td>-0.006939</td>\n",
       "      <td>-0.035657</td>\n",
       "      <td>-0.037415</td>\n",
       "      <td>0.008741</td>\n",
       "      <td>-0.076636</td>\n",
       "      <td>0.022091</td>\n",
       "      <td>-0.004346</td>\n",
       "      <td>0.008855</td>\n",
       "      <td>1.000000</td>\n",
       "      <td>0.000022</td>\n",
       "      <td>-0.000534</td>\n",
       "    </tr>\n",
       "    <tr>\n",
       "      <th>weekday</th>\n",
       "      <td>-0.470640</td>\n",
       "      <td>0.006397</td>\n",
       "      <td>0.007359</td>\n",
       "      <td>0.006337</td>\n",
       "      <td>-0.012587</td>\n",
       "      <td>-0.021975</td>\n",
       "      <td>0.031889</td>\n",
       "      <td>0.002418</td>\n",
       "      <td>0.004578</td>\n",
       "      <td>-0.008896</td>\n",
       "      <td>0.000716</td>\n",
       "      <td>-0.016214</td>\n",
       "      <td>-0.041648</td>\n",
       "      <td>-0.739353</td>\n",
       "      <td>0.000071</td>\n",
       "      <td>-0.000761</td>\n",
       "      <td>0.000022</td>\n",
       "      <td>1.000000</td>\n",
       "      <td>0.790347</td>\n",
       "    </tr>\n",
       "    <tr>\n",
       "      <th>is_weekend</th>\n",
       "      <td>-0.564091</td>\n",
       "      <td>0.000142</td>\n",
       "      <td>0.013604</td>\n",
       "      <td>0.018777</td>\n",
       "      <td>-0.015293</td>\n",
       "      <td>-0.014699</td>\n",
       "      <td>0.025413</td>\n",
       "      <td>-0.004247</td>\n",
       "      <td>0.006043</td>\n",
       "      <td>0.001226</td>\n",
       "      <td>0.008000</td>\n",
       "      <td>-0.038738</td>\n",
       "      <td>-0.053442</td>\n",
       "      <td>-0.935548</td>\n",
       "      <td>0.000042</td>\n",
       "      <td>0.000583</td>\n",
       "      <td>-0.000534</td>\n",
       "      <td>0.790347</td>\n",
       "      <td>1.000000</td>\n",
       "    </tr>\n",
       "  </tbody>\n",
       "</table>\n",
       "</div>"
      ],
      "text/plain": [
       "                          bike_count  temperature  humidity  windspeed  \\\n",
       "bike_count                  1.000000     0.482530 -0.366172  -0.211868   \n",
       "temperature                 0.482530     1.000000 -0.603229  -0.131444   \n",
       "humidity                   -0.366172    -0.603229  1.000000  -0.041803   \n",
       "windspeed                  -0.211868    -0.131444 -0.041803   1.000000   \n",
       "wind_direction             -0.027278     0.118907  0.183248   0.104963   \n",
       "visibility                  0.209376     0.490243 -0.601747   0.184163   \n",
       "precipitation              -0.218455    -0.020292  0.298716   0.186417   \n",
       "sun                         0.406989     0.586324 -0.792583  -0.233792   \n",
       "windspeed_max              -0.142020     0.028486 -0.122864   0.839175   \n",
       "precip_indic               -0.295623    -0.203915  0.422234   0.325412   \n",
       "precip_type                -0.292796    -0.209622  0.419270   0.305584   \n",
       "school_holiday_indicator   -0.025964     0.233536 -0.150886  -0.036417   \n",
       "public_holiday_indicator   -0.283459    -0.043018  0.044913  -0.014332   \n",
       "is_workday                  0.640148     0.010816 -0.019796  -0.014800   \n",
       "year                        0.014806    -0.000889 -0.139145   0.013183   \n",
       "month                       0.093921     0.150182  0.201197  -0.148962   \n",
       "day                         0.004874     0.013424 -0.030313   0.014400   \n",
       "weekday                    -0.470640     0.006397  0.007359   0.006337   \n",
       "is_weekend                 -0.564091     0.000142  0.013604   0.018777   \n",
       "\n",
       "                          wind_direction  visibility  precipitation       sun  \\\n",
       "bike_count                     -0.027278    0.209376      -0.218455  0.406989   \n",
       "temperature                     0.118907    0.490243      -0.020292  0.586324   \n",
       "humidity                        0.183248   -0.601747       0.298716 -0.792583   \n",
       "windspeed                       0.104963    0.184163       0.186417 -0.233792   \n",
       "wind_direction                  1.000000    0.151833       0.168407 -0.230804   \n",
       "visibility                      0.151833    1.000000      -0.095952  0.402015   \n",
       "precipitation                   0.168407   -0.095952       1.000000 -0.287452   \n",
       "sun                            -0.230804    0.402015      -0.287452  1.000000   \n",
       "windspeed_max                   0.172586    0.301689       0.278492 -0.130442   \n",
       "precip_indic                    0.211034   -0.149796       0.497588 -0.463618   \n",
       "precip_type                     0.198664   -0.163314       0.469996 -0.461409   \n",
       "school_holiday_indicator        0.067383    0.132694      -0.014344  0.115432   \n",
       "public_holiday_indicator        0.008915   -0.003699       0.008619 -0.022395   \n",
       "is_workday                      0.012733    0.008679      -0.028631  0.005275   \n",
       "year                           -0.037043    0.337759      -0.012596  0.050080   \n",
       "month                           0.039292   -0.022312       0.019580 -0.079020   \n",
       "day                            -0.008178   -0.001807      -0.028204  0.033633   \n",
       "weekday                        -0.012587   -0.021975       0.031889  0.002418   \n",
       "is_weekend                     -0.015293   -0.014699       0.025413 -0.004247   \n",
       "\n",
       "                          windspeed_max  precip_indic  precip_type  \\\n",
       "bike_count                    -0.142020     -0.295623    -0.292796   \n",
       "temperature                    0.028486     -0.203915    -0.209622   \n",
       "humidity                      -0.122864      0.422234     0.419270   \n",
       "windspeed                      0.839175      0.325412     0.305584   \n",
       "wind_direction                 0.172586      0.211034     0.198664   \n",
       "visibility                     0.301689     -0.149796    -0.163314   \n",
       "precipitation                  0.278492      0.497588     0.469996   \n",
       "sun                           -0.130442     -0.463618    -0.461409   \n",
       "windspeed_max                  1.000000      0.288072     0.272293   \n",
       "precip_indic                   0.288072      1.000000     0.899434   \n",
       "precip_type                    0.272293      0.899434     1.000000   \n",
       "school_holiday_indicator       0.000521     -0.055335    -0.049814   \n",
       "public_holiday_indicator      -0.013059      0.025297     0.012829   \n",
       "is_workday                    -0.005384     -0.007670    -0.009537   \n",
       "year                           0.019008     -0.015445    -0.027921   \n",
       "month                         -0.142998     -0.005677     0.002285   \n",
       "day                           -0.006939     -0.035657    -0.037415   \n",
       "weekday                        0.004578     -0.008896     0.000716   \n",
       "is_weekend                     0.006043      0.001226     0.008000   \n",
       "\n",
       "                          school_holiday_indicator  public_holiday_indicator  \\\n",
       "bike_count                               -0.025964                 -0.283459   \n",
       "temperature                               0.233536                 -0.043018   \n",
       "humidity                                 -0.150886                  0.044913   \n",
       "windspeed                                -0.036417                 -0.014332   \n",
       "wind_direction                            0.067383                  0.008915   \n",
       "visibility                                0.132694                 -0.003699   \n",
       "precipitation                            -0.014344                  0.008619   \n",
       "sun                                       0.115432                 -0.022395   \n",
       "windspeed_max                             0.000521                 -0.013059   \n",
       "precip_indic                             -0.055335                  0.025297   \n",
       "precip_type                              -0.049814                  0.012829   \n",
       "school_holiday_indicator                  1.000000                  0.114938   \n",
       "public_holiday_indicator                  0.114938                  1.000000   \n",
       "is_workday                               -0.002230                 -0.273654   \n",
       "year                                      0.026693                  0.000534   \n",
       "month                                     0.097476                 -0.009723   \n",
       "day                                       0.008741                 -0.076636   \n",
       "weekday                                  -0.016214                 -0.041648   \n",
       "is_weekend                               -0.038738                 -0.053442   \n",
       "\n",
       "                          is_workday      year     month       day   weekday  \\\n",
       "bike_count                  0.640148  0.014806  0.093921  0.004874 -0.470640   \n",
       "temperature                 0.010816 -0.000889  0.150182  0.013424  0.006397   \n",
       "humidity                   -0.019796 -0.139145  0.201197 -0.030313  0.007359   \n",
       "windspeed                  -0.014800  0.013183 -0.148962  0.014400  0.006337   \n",
       "wind_direction              0.012733 -0.037043  0.039292 -0.008178 -0.012587   \n",
       "visibility                  0.008679  0.337759 -0.022312 -0.001807 -0.021975   \n",
       "precipitation              -0.028631 -0.012596  0.019580 -0.028204  0.031889   \n",
       "sun                         0.005275  0.050080 -0.079020  0.033633  0.002418   \n",
       "windspeed_max              -0.005384  0.019008 -0.142998 -0.006939  0.004578   \n",
       "precip_indic               -0.007670 -0.015445 -0.005677 -0.035657 -0.008896   \n",
       "precip_type                -0.009537 -0.027921  0.002285 -0.037415  0.000716   \n",
       "school_holiday_indicator   -0.002230  0.026693  0.097476  0.008741 -0.016214   \n",
       "public_holiday_indicator   -0.273654  0.000534 -0.009723 -0.076636 -0.041648   \n",
       "is_workday                  1.000000  0.004239  0.006751  0.022091 -0.739353   \n",
       "year                        0.004239  1.000000 -0.058507 -0.004346  0.000071   \n",
       "month                       0.006751 -0.058507  1.000000  0.008855 -0.000761   \n",
       "day                         0.022091 -0.004346  0.008855  1.000000  0.000022   \n",
       "weekday                    -0.739353  0.000071 -0.000761  0.000022  1.000000   \n",
       "is_weekend                 -0.935548  0.000042  0.000583 -0.000534  0.790347   \n",
       "\n",
       "                          is_weekend  \n",
       "bike_count                 -0.564091  \n",
       "temperature                 0.000142  \n",
       "humidity                    0.013604  \n",
       "windspeed                   0.018777  \n",
       "wind_direction             -0.015293  \n",
       "visibility                 -0.014699  \n",
       "precipitation               0.025413  \n",
       "sun                        -0.004247  \n",
       "windspeed_max               0.006043  \n",
       "precip_indic                0.001226  \n",
       "precip_type                 0.008000  \n",
       "school_holiday_indicator   -0.038738  \n",
       "public_holiday_indicator   -0.053442  \n",
       "is_workday                 -0.935548  \n",
       "year                        0.000042  \n",
       "month                       0.000583  \n",
       "day                        -0.000534  \n",
       "weekday                     0.790347  \n",
       "is_weekend                  1.000000  "
      ]
     },
     "execution_count": 30,
     "metadata": {},
     "output_type": "execute_result"
    }
   ],
   "source": [
    "correlation_matrix = df_train.corr(numeric_only=True)  \n",
    "correlation_matrix"
   ]
  },
  {
   "cell_type": "code",
   "execution_count": 31,
   "id": "eea4f0f9",
   "metadata": {
    "execution": {
     "iopub.execute_input": "2025-07-04T20:02:50.952463Z",
     "iopub.status.busy": "2025-07-04T20:02:50.952263Z",
     "iopub.status.idle": "2025-07-04T20:02:51.997513Z",
     "shell.execute_reply": "2025-07-04T20:02:51.996794Z"
    },
    "papermill": {
     "duration": 1.06017,
     "end_time": "2025-07-04T20:02:52.001730",
     "exception": false,
     "start_time": "2025-07-04T20:02:50.941560",
     "status": "completed"
    },
    "tags": []
   },
   "outputs": [
    {
     "data": {
      "text/plain": [
       "<Axes: >"
      ]
     },
     "execution_count": 31,
     "metadata": {},
     "output_type": "execute_result"
    },
    {
     "data": {
      "image/png": "[encoded data removed]",
      "text/plain": [
       "<Figure size 640x480 with 2 Axes>"
      ]
     },
     "metadata": {},
     "output_type": "display_data"
    }
   ],
   "source": [
    "sns.heatmap(correlation_matrix, annot=True, cmap='coolwarm', fmt=\".2f\")"
   ]
  },
  {
   "cell_type": "code",
   "execution_count": null,
   "id": "9c73b249",
   "metadata": {
    "papermill": {
     "duration": 0.013348,
     "end_time": "2025-07-04T20:02:52.028795",
     "exception": false,
     "start_time": "2025-07-04T20:02:52.015447",
     "status": "completed"
    },
    "tags": []
   },
   "outputs": [],
   "source": []
  }
 ],
 "metadata": {
  "kaggle": {
   "accelerator": "nvidiaTeslaT4",
   "dataSources": [
    {
     "databundleVersionId": 12389405,
     "sourceId": 102823,
     "sourceType": "competition"
    }
   ],
   "dockerImageVersionId": 31040,
   "isGpuEnabled": true,
   "isInternetEnabled": true,
   "language": "python",
   "sourceType": "notebook"
  },
  "kernelspec": {
   "display_name": "Python 3",
   "language": "python",
   "name": "python3"
  },
  "language_info": {
   "codemirror_mode": {
    "name": "ipython",
    "version": 3
   },
   "file_extension": ".py",
   "mimetype": "text/x-python",
   "name": "python",
   "nbconvert_exporter": "python",
   "pygments_lexer": "ipython3",
   "version": "3.11.11"
  },
  "papermill": {
   "default_parameters": {},
   "duration": 26.13812,
   "end_time": "2025-07-04T20:02:52.960395",
   "environment_variables": {},
   "exception": null,
   "input_path": "__notebook__.ipynb",
   "output_path": "__notebook__.ipynb",
   "parameters": {},
   "start_time": "2025-07-04T20:02:26.822275",
   "version": "2.6.0"
  }
 },
 "nbformat": 4,
 "nbformat_minor": 5
}
